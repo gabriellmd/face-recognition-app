{
  "cells": [
    {
      "cell_type": "markdown",
      "metadata": {
        "id": "0AXuDVPtzoQV"
      },
      "source": [
        "# **Part Nº 1**"
      ]
    },
    {
      "cell_type": "markdown",
      "metadata": {
        "id": "7EB498fPW5_p"
      },
      "source": [
        "### **1.1 Install Dependencies**"
      ]
    },
    {
      "cell_type": "code",
      "execution_count": 7,
      "metadata": {
        "colab": {
          "base_uri": "https://localhost:8080/",
          "height": 1000
        },
        "id": "qn_dQ8oLWjSc",
        "outputId": "5560dd52-b98c-47c2-ddc8-fef1c93e820e"
      },
      "outputs": [],
      "source": [
        "# %pip install tensorflow==2.4.1 tensorflow-gpu==2.4.1 opencv-python matplotlib"
      ]
    },
    {
      "cell_type": "markdown",
      "metadata": {
        "id": "mrO-m9elW9o0"
      },
      "source": [
        "### **1.2 Import Dependencies**"
      ]
    },
    {
      "cell_type": "code",
      "execution_count": 1,
      "metadata": {
        "id": "pSmQGDpJW2ck"
      },
      "outputs": [],
      "source": [
        "import os\n",
        "import cv2\n",
        "import numpy as np \n",
        "from matplotlib import pyplot as plt\n",
        "from datetime import datetime"
      ]
    },
    {
      "cell_type": "code",
      "execution_count": 2,
      "metadata": {
        "id": "hWD8VC-XYaeW"
      },
      "outputs": [
        {
          "name": "stderr",
          "output_type": "stream",
          "text": [
            "2022-12-01 19:26:10.846666: W tensorflow/stream_executor/platform/default/dso_loader.cc:60] Could not load dynamic library 'libcudart.so.11.0'; dlerror: libcudart.so.11.0: cannot open shared object file: No such file or directory; LD_LIBRARY_PATH: /home/gabriel/.local/lib/python3.8/site-packages/cv2/../../lib64:\n",
            "2022-12-01 19:26:10.846717: I tensorflow/stream_executor/cuda/cudart_stub.cc:29] Ignore above cudart dlerror if you do not have a GPU set up on your machine.\n"
          ]
        }
      ],
      "source": [
        "#Import tensorflow API\n",
        "import tensorflow as tf\n",
        "from tensorflow.keras.models import Model\n",
        "from tensorflow.keras.layers import Layer, Conv2D, Dense, MaxPooling2D, Input, Flatten"
      ]
    },
    {
      "cell_type": "markdown",
      "metadata": {
        "id": "RLtIHy6RYPpC"
      },
      "source": [
        "### **1.3 Set GPU Growth**"
      ]
    },
    {
      "cell_type": "code",
      "execution_count": 3,
      "metadata": {
        "colab": {
          "base_uri": "https://localhost:8080/"
        },
        "id": "qYUBfXWlYVjF",
        "outputId": "8c2d5b25-5b49-471f-902c-8cc1067253ca"
      },
      "outputs": [
        {
          "name": "stdout",
          "output_type": "stream",
          "text": [
            "[]\n"
          ]
        },
        {
          "name": "stderr",
          "output_type": "stream",
          "text": [
            "2022-12-01 19:26:16.074230: I tensorflow/compiler/jit/xla_cpu_device.cc:41] Not creating XLA devices, tf_xla_enable_xla_devices not set\n",
            "2022-12-01 19:26:16.086118: I tensorflow/stream_executor/platform/default/dso_loader.cc:49] Successfully opened dynamic library libcuda.so.1\n",
            "2022-12-01 19:26:16.131887: E tensorflow/stream_executor/cuda/cuda_driver.cc:328] failed call to cuInit: CUDA_ERROR_NO_DEVICE: no CUDA-capable device is detected\n",
            "2022-12-01 19:26:16.131921: I tensorflow/stream_executor/cuda/cuda_diagnostics.cc:156] kernel driver does not appear to be running on this host (jarvis): /proc/driver/nvidia/version does not exist\n"
          ]
        }
      ],
      "source": [
        "#Avoid OOM errors by setting GPU Memory Consumption Grotwh\n",
        "#Accessing all GPUs devices\n",
        "gpus = tf.config.experimental.list_physical_devices('GPU')\n",
        "print(gpus)\n",
        "\n",
        "# Freeing up memory growth\n",
        "for gpu in gpus:\n",
        "  print(gpu)\n",
        "  tf.config.experimental.set_memory_growth(gpu, True)"
      ]
    },
    {
      "cell_type": "markdown",
      "metadata": {
        "id": "4Gz92iG-atGC"
      },
      "source": [
        "### **1.4 Create Folder Structures**"
      ]
    },
    {
      "cell_type": "code",
      "execution_count": 4,
      "metadata": {
        "id": "YHDts_4Bawlk"
      },
      "outputs": [],
      "source": [
        "#Setup paths\n",
        "## 3 base folders: anchor (images of people that we want to recognize), positive (images of people that we want to recognize) and negative (ima\n",
        "APP_PATH = '/home/gabriel/Documentos/mestrado/am/notebooks/face-recognition-app'\n",
        "POS_PATH = os.path.join(APP_PATH, 'data', 'positive')\n",
        "NEG_PATH = os.path.join(APP_PATH, 'data', 'negative')\n",
        "ANC_PATH = os.path.join(APP_PATH, 'data', 'anchor')"
      ]
    },
    {
      "cell_type": "code",
      "execution_count": 5,
      "metadata": {
        "id": "hH1tljonb7Bt"
      },
      "outputs": [],
      "source": [
        "# Creating directorys\n",
        "dirnames = [POS_PATH, NEG_PATH, ANC_PATH]\n",
        "for dir in dirnames:\n",
        "  if(not os.path.exists(dir)):\n",
        "    print('Creating directory: ', dir)\n",
        "    os.makedirs(dir)"
      ]
    },
    {
      "cell_type": "markdown",
      "metadata": {
        "id": "bMKFwR2ld-LS"
      },
      "source": [
        "# **Part Nº 2**"
      ]
    },
    {
      "cell_type": "markdown",
      "metadata": {
        "id": "ozSzxzlhedIH"
      },
      "source": [
        "## **2. Collect Positives and Anchors**"
      ]
    },
    {
      "cell_type": "markdown",
      "metadata": {
        "id": "Bp1kI8_ueCT-"
      },
      "source": [
        "### **2.1 Untar Labelled Faces int the Wild Dataset**"
      ]
    },
    {
      "cell_type": "markdown",
      "metadata": {
        "id": "0W5nsbzAjuSZ"
      },
      "source": [
        "#### **1.   Acess http://vis-www.cs.umass.edu/lfw/**\n",
        "#### **2.   At the menu, go to Download option**\n",
        "#### **3.   Download database option 'All images as gzipped tar file'** "
      ]
    },
    {
      "cell_type": "code",
      "execution_count": 13,
      "metadata": {
        "colab": {
          "base_uri": "https://localhost:8080/"
        },
        "id": "EbCardWugb0P",
        "outputId": "b89804cb-3067-4f63-804e-36244b5b4d16"
      },
      "outputs": [],
      "source": [
        "# http://vis-www.cs.umass.edu/lfw/\n",
        "# Uncompress Tar GZ Labelled Faces in the Wild Dataset\n",
        "TGZ_PATH = os.path.join(APP_PATH, 'lfw.tgz')\n",
        "# Uncomment to execute the line below.\n",
        "# !tar -xf TGZ_PATH"
      ]
    },
    {
      "cell_type": "code",
      "execution_count": 6,
      "metadata": {},
      "outputs": [],
      "source": [
        "def move_to_negative_path():\n",
        "    # Move LFW Images to the following repository data/negative\n",
        "    for directory in os.listdir('lfw'):\n",
        "        for file in os.listdir(os.path.join('lfw', directory)):\n",
        "            print(file)\n",
        "            EX_PATH = os.path.join('lfw', directory, file)\n",
        "            NEW_PATH = os.path.join(NEG_PATH, file)\n",
        "            os.replace(EX_PATH, NEW_PATH)"
      ]
    },
    {
      "cell_type": "code",
      "execution_count": 15,
      "metadata": {
        "id": "n8C_EEzL5eqt"
      },
      "outputs": [],
      "source": [
        "# Execute only once\n",
        "# move_to_negative_path()"
      ]
    },
    {
      "cell_type": "markdown",
      "metadata": {
        "id": "c_LTgCcFeVa-"
      },
      "source": [
        "### **2.2 Collect Positive and Anchor Classes**"
      ]
    },
    {
      "cell_type": "code",
      "execution_count": 7,
      "metadata": {},
      "outputs": [],
      "source": [
        "# Import uuid library to generate unique image names\n",
        "import uuid"
      ]
    },
    {
      "cell_type": "code",
      "execution_count": 8,
      "metadata": {},
      "outputs": [],
      "source": [
        "# If you get a empty error or can't open camera by index error, try another number (ex. 1, 2, 3, 4, ...)\n",
        "WEBCAM_DEVICE_NUMBER = 0"
      ]
    },
    {
      "cell_type": "code",
      "execution_count": 9,
      "metadata": {
        "id": "NuKwAYUZPTU_"
      },
      "outputs": [],
      "source": [
        "# Esablish a connection to the webcam\n",
        "# If you get a empty error or can't open camera by index error, try another number (ex. 4)\n",
        "cap = cv2.VideoCapture(WEBCAM_DEVICE_NUMBER)\n",
        "while cap.isOpened():\n",
        "  ret, frame = cap.read()\n",
        "\n",
        "  # Cut down frame to 250x250px\n",
        "  frame = frame[120:120+250, 200:200+250, : ]\n",
        "\n",
        "  # Show image back to screen \n",
        "  cv2.imshow('Image Collection', frame)\n",
        "\n",
        "  # Collect Anchors\n",
        "  if(cv2.waitKey(1) & 0XFF == ord('a')):\n",
        "    # Create the unique file path\n",
        "    imgname = os.path.join(ANC_PATH, '{}.jpg'.format(uuid.uuid1()))\n",
        "    # Write out anchor image\n",
        "    cv2.imwrite(imgname, frame)\n",
        "\n",
        "  # Collect Positives\n",
        "  elif(cv2.waitKey(1) & 0XFF == ord('p')):\n",
        "    # Create the unique file path\n",
        "    imgname = os.path.join(POS_PATH, '{}.jpg'.format(uuid.uuid1()))\n",
        "    # Write out positive image\n",
        "    cv2.imwrite(imgname, frame)\n",
        "\n",
        "  # Breaking gracefully\n",
        "  elif(cv2.waitKey(1) & 0XFF == ord('q')):\n",
        "    break\n",
        "\n",
        "# Release the webcam\n",
        "cap.release()\n",
        "# Close the image show frame\n",
        "cv2.destroyAllWindows()\n"
      ]
    },
    {
      "cell_type": "code",
      "execution_count": 10,
      "metadata": {},
      "outputs": [
        {
          "data": {
            "text/plain": [
              "(250, 250, 3)"
            ]
          },
          "execution_count": 10,
          "metadata": {},
          "output_type": "execute_result"
        }
      ],
      "source": [
        "frame.shape"
      ]
    },
    {
      "cell_type": "markdown",
      "metadata": {},
      "source": [
        "#### 2.4 Data Augmentation "
      ]
    },
    {
      "cell_type": "code",
      "execution_count": 11,
      "metadata": {},
      "outputs": [],
      "source": [
        "PROCESS_AUGUMENTATION = False"
      ]
    },
    {
      "cell_type": "code",
      "execution_count": 12,
      "metadata": {},
      "outputs": [],
      "source": [
        "# Receive an image and generate other 2 images applying some property editions. If you want to produce more images, increase the range number.\n",
        "def data_aug(img):\n",
        "    data = []\n",
        "    for i in range(2):\n",
        "        img = tf.image.stateless_random_brightness(img, max_delta=0.02, seed=(1,2))\n",
        "        img = tf.image.stateless_random_contrast(img, lower=0.6, upper=1, seed=(1,3))\n",
        "        img = tf.image.stateless_random_flip_left_right(img, seed=(np.random.randint(100),np.random.randint(100)))\n",
        "        img = tf.image.stateless_random_jpeg_quality(img, min_jpeg_quality=90, max_jpeg_quality=100, seed=(np.random.randint(100),np.random.randint(100)))\n",
        "        img = tf.image.stateless_random_saturation(img, lower=0.9,upper=1, seed=(np.random.randint(100),np.random.randint(100)))\n",
        "            \n",
        "        data.append(img)\n",
        "    \n",
        "    return data"
      ]
    },
    {
      "cell_type": "code",
      "execution_count": 13,
      "metadata": {},
      "outputs": [],
      "source": [
        "# For each image at the directory, generate another variations and save it.\n",
        "def augument_positives():\n",
        "    for file_name in os.listdir(os.path.join(POS_PATH)):\n",
        "        img_path = os.path.join(POS_PATH, file_name)\n",
        "        img = cv2.imread(img_path)\n",
        "        augmented_images = data_aug(img) \n",
        "        \n",
        "        for image in augmented_images:\n",
        "            cv2.imwrite(os.path.join(POS_PATH, '{}.jpg'.format(uuid.uuid1())), image.numpy())"
      ]
    },
    {
      "cell_type": "code",
      "execution_count": 14,
      "metadata": {},
      "outputs": [],
      "source": [
        "# For each image at the directory, generate another variations and save it.\n",
        "def augument_negatives():\n",
        "    for file_name in os.listdir(os.path.join(ANC_PATH)):\n",
        "        img_path = os.path.join(ANC_PATH, file_name)\n",
        "        img = cv2.imread(img_path)\n",
        "        augmented_images = data_aug(img) \n",
        "        \n",
        "        for image in augmented_images:\n",
        "            cv2.imwrite(os.path.join(ANC_PATH, '{}.jpg'.format(uuid.uuid1())), image.numpy())"
      ]
    },
    {
      "cell_type": "code",
      "execution_count": 15,
      "metadata": {},
      "outputs": [],
      "source": [
        "if(PROCESS_AUGUMENTATION):\n",
        "    augument_positives()\n",
        "    augument_negatives()"
      ]
    },
    {
      "cell_type": "markdown",
      "metadata": {},
      "source": [
        "# Part 3"
      ]
    },
    {
      "cell_type": "markdown",
      "metadata": {
        "id": "C6TRjUtqf9x_"
      },
      "source": [
        "## **3. Load and Preprocess Images**"
      ]
    },
    {
      "cell_type": "markdown",
      "metadata": {
        "id": "1iNJ6TgTf-CM"
      },
      "source": [
        "### **3.1 Get Image Directories**"
      ]
    },
    {
      "cell_type": "code",
      "execution_count": 16,
      "metadata": {},
      "outputs": [
        {
          "name": "stderr",
          "output_type": "stream",
          "text": [
            "2022-12-01 19:27:24.819816: I tensorflow/core/platform/cpu_feature_guard.cc:142] This TensorFlow binary is optimized with oneAPI Deep Neural Network Library (oneDNN) to use the following CPU instructions in performance-critical operations:  AVX2 FMA\n",
            "To enable them in other operations, rebuild TensorFlow with the appropriate compiler flags.\n",
            "2022-12-01 19:27:24.820650: I tensorflow/compiler/jit/xla_gpu_device.cc:99] Not creating XLA devices, tf_xla_enable_xla_devices not set\n"
          ]
        }
      ],
      "source": [
        "# Getting the same number of images per folder\n",
        "# Create a dataset generator for each folder\n",
        "anchor = tf.data.Dataset.list_files(ANC_PATH + '/*.jpg').take(400)\n",
        "positive = tf.data.Dataset.list_files(POS_PATH + '/*.jpg').take(400)\n",
        "negative = tf.data.Dataset.list_files(NEG_PATH + '/*.jpg').take(400)\n"
      ]
    },
    {
      "cell_type": "markdown",
      "metadata": {
        "id": "2chnKVEYf-Oq"
      },
      "source": [
        "### **3.2 Preprocessing - Scale and Resize**"
      ]
    },
    {
      "cell_type": "code",
      "execution_count": 17,
      "metadata": {},
      "outputs": [],
      "source": [
        "def pre_process(file_path):\n",
        "    # Read in image from file path\n",
        "    byte_img = tf.io.read_file(file_path)\n",
        "    # Load the image\n",
        "    img = tf.io.decode_jpeg(byte_img)\n",
        "\n",
        "    # Preprocessing steps - resizing the image to be 100x100x3\n",
        "    img = tf.image.resize(img, (100, 100))\n",
        "    # Scale image to be between 0 and 1\n",
        "    img = img / 255.0\n",
        "\n",
        "    # Return image preprocessed\n",
        "    return img"
      ]
    },
    {
      "cell_type": "markdown",
      "metadata": {
        "id": "JTaHPkCmgHBC"
      },
      "source": [
        "### **3.3 Create Labelled Dataset**"
      ]
    },
    {
      "cell_type": "code",
      "execution_count": 18,
      "metadata": {},
      "outputs": [],
      "source": [
        "# Creating labels 0 (negative) or 1 (positive) to the images\n",
        "positives = tf.data.Dataset.zip((anchor, positive, tf.data.Dataset.from_tensor_slices(tf.ones(len(anchor)))))\n",
        "negatives = tf.data.Dataset.zip((anchor, negative, tf.data.Dataset.from_tensor_slices(tf.zeros(len(anchor)))))\n",
        "data = positives.concatenate(negatives)"
      ]
    },
    {
      "cell_type": "code",
      "execution_count": 19,
      "metadata": {},
      "outputs": [
        {
          "data": {
            "text/plain": [
              "<ConcatenateDataset shapes: ((), (), ()), types: (tf.string, tf.string, tf.float32)>"
            ]
          },
          "execution_count": 19,
          "metadata": {},
          "output_type": "execute_result"
        }
      ],
      "source": [
        "data"
      ]
    },
    {
      "cell_type": "code",
      "execution_count": 20,
      "metadata": {},
      "outputs": [
        {
          "data": {
            "text/plain": [
              "(b'/home/gabriel/Documentos/mestrado/am/notebooks/face-recognition-app/data/anchor/28e2445e-6f90-11ed-b0a6-2d597fce24d0.jpg',\n",
              " b'/home/gabriel/Documentos/mestrado/am/notebooks/face-recognition-app/data/positive/247cfc5f-6bef-11ed-886b-073aaa4b2cb1.jpg',\n",
              " 1.0)"
            ]
          },
          "execution_count": 20,
          "metadata": {},
          "output_type": "execute_result"
        }
      ],
      "source": [
        "samples = data.as_numpy_iterator()\n",
        "samples.next()"
      ]
    },
    {
      "cell_type": "code",
      "execution_count": 21,
      "metadata": {},
      "outputs": [],
      "source": [
        "example = samples.next()"
      ]
    },
    {
      "cell_type": "markdown",
      "metadata": {
        "id": "0eLUdqwfgHPA"
      },
      "source": [
        "### **3.4 Build Train and Test Partition**"
      ]
    },
    {
      "cell_type": "code",
      "execution_count": 22,
      "metadata": {},
      "outputs": [],
      "source": [
        "# In this implementation we are comparing always a pair of images to decide about similiarity\n",
        "def pre_process_twin(input_img, validation_img, label):\n",
        "\treturn (pre_process(input_img), pre_process(validation_img), label)"
      ]
    },
    {
      "cell_type": "code",
      "execution_count": 23,
      "metadata": {},
      "outputs": [
        {
          "data": {
            "text/plain": [
              "(<tf.Tensor: shape=(100, 100, 3), dtype=float32, numpy=\n",
              " array([[[0.8661765 , 0.8740196 , 0.87009805],\n",
              "         [0.86446077, 0.8723039 , 0.86838233],\n",
              "         [0.8620098 , 0.86985296, 0.8659314 ],\n",
              "         ...,\n",
              "         [0.15808824, 0.15269607, 0.22254902],\n",
              "         [0.17254902, 0.17598039, 0.24656862],\n",
              "         [0.16470589, 0.1764706 , 0.2509804 ]],\n",
              " \n",
              "        [[0.8664216 , 0.8742647 , 0.87034315],\n",
              "         [0.8625    , 0.87034315, 0.8664216 ],\n",
              "         [0.8691176 , 0.8769608 , 0.8730392 ],\n",
              "         ...,\n",
              "         [0.20857844, 0.18112744, 0.25735295],\n",
              "         [0.225     , 0.20539215, 0.2769608 ],\n",
              "         [0.20490196, 0.19632353, 0.26127452]],\n",
              " \n",
              "        [[0.86764705, 0.8813726 , 0.877451  ],\n",
              "         [0.8737745 , 0.88161767, 0.8776961 ],\n",
              "         [0.87058824, 0.8784314 , 0.8745098 ],\n",
              "         ...,\n",
              "         [0.46862745, 0.44117647, 0.44215685],\n",
              "         [0.41838235, 0.39485294, 0.39583334],\n",
              "         [0.4762255 , 0.46568626, 0.45784312]],\n",
              " \n",
              "        ...,\n",
              " \n",
              "        [[0.6286765 , 0.5955882 , 0.5588235 ],\n",
              "         [0.95441175, 0.93014705, 0.76985294],\n",
              "         [0.810049  , 0.7629902 , 0.5977941 ],\n",
              "         ...,\n",
              "         [0.54534316, 0.5512255 , 0.54240197],\n",
              "         [0.55514705, 0.56102943, 0.55808824],\n",
              "         [0.55710787, 0.5629902 , 0.560049  ]],\n",
              " \n",
              "        [[0.25367647, 0.2129902 , 0.21862745],\n",
              "         [0.99583334, 0.9610294 , 0.82867646],\n",
              "         [0.8210784 , 0.7703431 , 0.6102941 ],\n",
              "         ...,\n",
              "         [0.5414216 , 0.5414216 , 0.53406864],\n",
              "         [0.54019606, 0.54019606, 0.5387255 ],\n",
              "         [0.5392157 , 0.5392157 , 0.5392157 ]],\n",
              " \n",
              "        [[0.1992647 , 0.14558823, 0.19828431],\n",
              "         [0.94264704, 0.8982843 , 0.8017157 ],\n",
              "         [0.88308823, 0.82230395, 0.6867647 ],\n",
              "         ...,\n",
              "         [0.5328431 , 0.5328431 , 0.525     ],\n",
              "         [0.527451  , 0.527451  , 0.51960784],\n",
              "         [0.5382353 , 0.5382353 , 0.5382353 ]]], dtype=float32)>,\n",
              " <tf.Tensor: shape=(100, 100, 3), dtype=float32, numpy=\n",
              " array([[[0.4117647 , 0.41960785, 0.41568628],\n",
              "         [0.41495097, 0.4227941 , 0.41887254],\n",
              "         [0.41568628, 0.42352942, 0.41960785],\n",
              "         ...,\n",
              "         [0.41568628, 0.42352942, 0.4117647 ],\n",
              "         [0.41568628, 0.42352942, 0.4117647 ],\n",
              "         [0.41960785, 0.42745098, 0.41568628]],\n",
              " \n",
              "        [[0.4137255 , 0.42058823, 0.40686274],\n",
              "         [0.4127451 , 0.41960785, 0.40588236],\n",
              "         [0.4105392 , 0.41740197, 0.40367648],\n",
              "         ...,\n",
              "         [0.42058823, 0.42745098, 0.40784314],\n",
              "         [0.42132354, 0.42818627, 0.40857843],\n",
              "         [0.4245098 , 0.43137255, 0.4117647 ]],\n",
              " \n",
              "        [[0.41740197, 0.42132354, 0.4017157 ],\n",
              "         [0.41666666, 0.42058823, 0.40098038],\n",
              "         [0.41960785, 0.42352942, 0.40392157],\n",
              "         ...,\n",
              "         [0.42745098, 0.43137255, 0.4117647 ],\n",
              "         [0.4245098 , 0.42843136, 0.40882352],\n",
              "         [0.42352942, 0.42745098, 0.40784314]],\n",
              " \n",
              "        ...,\n",
              " \n",
              "        [[0.63235295, 0.6840686 , 0.67720586],\n",
              "         [0.63529414, 0.6882353 , 0.6882353 ],\n",
              "         [0.62058824, 0.67941177, 0.68308824],\n",
              "         ...,\n",
              "         [0.30367646, 0.28333333, 0.2634804 ],\n",
              "         [0.30294117, 0.2752451 , 0.26102942],\n",
              "         [0.29338235, 0.26568627, 0.2514706 ]],\n",
              " \n",
              "        [[0.59166664, 0.6897059 , 0.6848039 ],\n",
              "         [0.5779412 , 0.6757353 , 0.6730392 ],\n",
              "         [0.5468137 , 0.6504902 , 0.65955883],\n",
              "         ...,\n",
              "         [0.31495097, 0.31176472, 0.3107843 ],\n",
              "         [0.2977941 , 0.28799018, 0.28995097],\n",
              "         [0.28259805, 0.26691177, 0.26960784]],\n",
              " \n",
              "        [[0.5323529 , 0.65      , 0.64215684],\n",
              "         [0.51960784, 0.6377451 , 0.63161767],\n",
              "         [0.5063726 , 0.6311275 , 0.63529414],\n",
              "         ...,\n",
              "         [0.3509804 , 0.35490197, 0.37058824],\n",
              "         [0.3257353 , 0.32965687, 0.34534314],\n",
              "         [0.28333333, 0.27941176, 0.2990196 ]]], dtype=float32)>,\n",
              " 1.0)"
            ]
          },
          "execution_count": 23,
          "metadata": {},
          "output_type": "execute_result"
        }
      ],
      "source": [
        "pre_process_twin(*example)"
      ]
    },
    {
      "cell_type": "code",
      "execution_count": 24,
      "metadata": {},
      "outputs": [
        {
          "data": {
            "text/plain": [
              "<matplotlib.image.AxesImage at 0x7f0181c138e0>"
            ]
          },
          "execution_count": 24,
          "metadata": {},
          "output_type": "execute_result"
        },
        {
          "data": {
            "image/png": "[encoded data removed]",
            "text/plain": [
              "<Figure size 640x480 with 1 Axes>"
            ]
          },
          "metadata": {},
          "output_type": "display_data"
        }
      ],
      "source": [
        "\n",
        "res = pre_process_twin(*example)\n",
        "plt.imshow(res[1])"
      ]
    },
    {
      "cell_type": "code",
      "execution_count": 25,
      "metadata": {},
      "outputs": [],
      "source": [
        "# Build data loader pipeline\n",
        "data = data.map(pre_process_twin)\n",
        "data = data.cache()\n",
        "data = data.shuffle(buffer_size=10000)"
      ]
    },
    {
      "cell_type": "code",
      "execution_count": 26,
      "metadata": {},
      "outputs": [],
      "source": [
        "# Training partition\n",
        "# Recovering 80% of the data for train\n",
        "train_data = data.take(round(len(data)*.8))\n",
        "# passing data as batches of 16 images\n",
        "train_data = train_data.batch(16)\n",
        "# starts pre-processing the next set of images to avoid bottleneck\n",
        "train_data = train_data.prefetch(8)"
      ]
    },
    {
      "cell_type": "code",
      "execution_count": 27,
      "metadata": {},
      "outputs": [],
      "source": [
        "# Testing partition\n",
        "# skip the first X images (they were used to compose the train data)\n",
        "test_data = data.skip(round(len(data)*.8))\n",
        "test_data = test_data.take(round(len(data)*.2))\n",
        "test_data = test_data.batch(16)\n",
        "test_data = test_data.prefetch(8)"
      ]
    },
    {
      "cell_type": "code",
      "execution_count": 28,
      "metadata": {},
      "outputs": [
        {
          "name": "stderr",
          "output_type": "stream",
          "text": [
            "2022-12-01 19:28:04.264827: I tensorflow/compiler/mlir/mlir_graph_optimization_pass.cc:116] None of the MLIR optimization passes are enabled (registered 2)\n",
            "2022-12-01 19:28:04.286034: I tensorflow/core/platform/profile_utils/cpu_utils.cc:112] CPU Frequency: 2899885000 Hz\n"
          ]
        },
        {
          "data": {
            "text/plain": [
              "16"
            ]
          },
          "execution_count": 28,
          "metadata": {},
          "output_type": "execute_result"
        }
      ],
      "source": [
        "train_samples = train_data.as_numpy_iterator()\n",
        "train_sample = train_samples.next()\n",
        "# We have 16 images inside each example now\n",
        "len(train_sample[0])"
      ]
    },
    {
      "cell_type": "markdown",
      "metadata": {},
      "source": [
        "# Part 4"
      ]
    },
    {
      "cell_type": "markdown",
      "metadata": {
        "id": "mlluvknmgMuP"
      },
      "source": [
        "### **4. Model Engineering**"
      ]
    },
    {
      "cell_type": "markdown",
      "metadata": {},
      "source": [
        "![Siamese Neural Network](./siamese-neural-network.png)"
      ]
    },
    {
      "cell_type": "markdown",
      "metadata": {},
      "source": [
        "### 4.1 Build Embedding Layer"
      ]
    },
    {
      "cell_type": "code",
      "execution_count": 29,
      "metadata": {},
      "outputs": [],
      "source": [
        "def make_embedding(): \n",
        "    # We are going to work with 100x100px, so the numbers will not be exactly the same of the photo above, however it's not a problem.\n",
        "    inp = Input(shape=(100,100,3), name='input_image')\n",
        "    \n",
        "    # First block\n",
        "    c1 = Conv2D(64, (10,10), activation='relu')(inp)\n",
        "    m1 = MaxPooling2D(64, (2,2), padding='same')(c1)\n",
        "    \n",
        "    # Second block\n",
        "    c2 = Conv2D(128, (7,7), activation='relu')(m1)\n",
        "    m2 = MaxPooling2D(64, (2,2), padding='same')(c2)\n",
        "    \n",
        "    # Third block \n",
        "    c3 = Conv2D(128, (4,4), activation='relu')(m2)\n",
        "    m3 = MaxPooling2D(64, (2,2), padding='same')(c3)\n",
        "    \n",
        "    # Final embedding block\n",
        "    c4 = Conv2D(256, (4,4), activation='relu')(m3)\n",
        "    # Flatting a 3-dimension into a one-dimension\n",
        "    f1 = Flatten()(c4)\n",
        "    # Fully connected layer\n",
        "    d1 = Dense(4096, activation='sigmoid')(f1)\n",
        "    \n",
        "    \n",
        "    return Model(inputs=[inp], outputs=[d1], name='embedding')"
      ]
    },
    {
      "cell_type": "code",
      "execution_count": 30,
      "metadata": {},
      "outputs": [
        {
          "name": "stdout",
          "output_type": "stream",
          "text": [
            "Model: \"embedding\"\n",
            "_________________________________________________________________\n",
            "Layer (type)                 Output Shape              Param #   \n",
            "=================================================================\n",
            "input_image (InputLayer)     [(None, 100, 100, 3)]     0         \n",
            "_________________________________________________________________\n",
            "conv2d (Conv2D)              (None, 91, 91, 64)        19264     \n",
            "_________________________________________________________________\n",
            "max_pooling2d (MaxPooling2D) (None, 46, 46, 64)        0         \n",
            "_________________________________________________________________\n",
            "conv2d_1 (Conv2D)            (None, 40, 40, 128)       401536    \n",
            "_________________________________________________________________\n",
            "max_pooling2d_1 (MaxPooling2 (None, 20, 20, 128)       0         \n",
            "_________________________________________________________________\n",
            "conv2d_2 (Conv2D)            (None, 17, 17, 128)       262272    \n",
            "_________________________________________________________________\n",
            "max_pooling2d_2 (MaxPooling2 (None, 9, 9, 128)         0         \n",
            "_________________________________________________________________\n",
            "conv2d_3 (Conv2D)            (None, 6, 6, 256)         524544    \n",
            "_________________________________________________________________\n",
            "flatten (Flatten)            (None, 9216)              0         \n",
            "_________________________________________________________________\n",
            "dense (Dense)                (None, 4096)              37752832  \n",
            "=================================================================\n",
            "Total params: 38,960,448\n",
            "Trainable params: 38,960,448\n",
            "Non-trainable params: 0\n",
            "_________________________________________________________________\n"
          ]
        }
      ],
      "source": [
        "embedding = make_embedding()\n",
        "embedding.summary()"
      ]
    },
    {
      "cell_type": "markdown",
      "metadata": {},
      "source": [
        "### 4.2 Build Distance Layer"
      ]
    },
    {
      "cell_type": "code",
      "execution_count": 31,
      "metadata": {},
      "outputs": [],
      "source": [
        "# Siamese L1 Distance class\n",
        "class L1Dist(Layer):\n",
        "    \n",
        "    # Init method - inheritance\n",
        "    def __init__(self, **kwargs):\n",
        "        super().__init__()\n",
        "       \n",
        "    # Magic happens here - similarity calculation\n",
        "    # Anchor image will come with a positive ou negative image and we are going to compare similarity\n",
        "    # calculating the absolute value of the diference of the two image representations\n",
        "    def call(self, input_embedding, validation_embedding):\n",
        "        return tf.math.abs(input_embedding - validation_embedding)"
      ]
    },
    {
      "cell_type": "code",
      "execution_count": 32,
      "metadata": {},
      "outputs": [
        {
          "data": {
            "text/plain": [
              "<__main__.L1Dist at 0x7f016856e100>"
            ]
          },
          "execution_count": 32,
          "metadata": {},
          "output_type": "execute_result"
        }
      ],
      "source": [
        "l1 = L1Dist()\n",
        "l1"
      ]
    },
    {
      "cell_type": "markdown",
      "metadata": {},
      "source": [
        "### 4.3 Make Siamese Model"
      ]
    },
    {
      "cell_type": "code",
      "execution_count": 33,
      "metadata": {},
      "outputs": [],
      "source": [
        "def make_siamese_model(): \n",
        "    \n",
        "    # Anchor image input in the network\n",
        "    input_image = Input(name='input_img', shape=(100,100,3))\n",
        "    \n",
        "    # Validation image in the network \n",
        "    validation_image = Input(name='validation_img', shape=(100,100,3))\n",
        "    \n",
        "    # Combine siamese distance components\n",
        "    siamese_layer = L1Dist()\n",
        "    siamese_layer._name = 'distance'\n",
        "    distances = siamese_layer(embedding(input_image), embedding(validation_image))\n",
        "    \n",
        "    # Classification layer \n",
        "    classifier = Dense(1, activation='sigmoid')(distances)\n",
        "    \n",
        "    return Model(inputs=[input_image, validation_image], outputs=classifier, name='SiameseNetwork')"
      ]
    },
    {
      "cell_type": "code",
      "execution_count": 34,
      "metadata": {},
      "outputs": [
        {
          "name": "stdout",
          "output_type": "stream",
          "text": [
            "Model: \"SiameseNetwork\"\n",
            "__________________________________________________________________________________________________\n",
            "Layer (type)                    Output Shape         Param #     Connected to                     \n",
            "==================================================================================================\n",
            "input_img (InputLayer)          [(None, 100, 100, 3) 0                                            \n",
            "__________________________________________________________________________________________________\n",
            "validation_img (InputLayer)     [(None, 100, 100, 3) 0                                            \n",
            "__________________________________________________________________________________________________\n",
            "embedding (Functional)          (None, 4096)         38960448    input_img[0][0]                  \n",
            "                                                                 validation_img[0][0]             \n",
            "__________________________________________________________________________________________________\n",
            "distance (L1Dist)               (None, 4096)         0           embedding[0][0]                  \n",
            "                                                                 embedding[1][0]                  \n",
            "__________________________________________________________________________________________________\n",
            "dense_1 (Dense)                 (None, 1)            4097        distance[0][0]                   \n",
            "==================================================================================================\n",
            "Total params: 38,964,545\n",
            "Trainable params: 38,964,545\n",
            "Non-trainable params: 0\n",
            "__________________________________________________________________________________________________\n"
          ]
        }
      ],
      "source": [
        "siamese_model = make_siamese_model()\n",
        "siamese_model.summary()"
      ]
    },
    {
      "cell_type": "markdown",
      "metadata": {},
      "source": [
        "## 5. Training"
      ]
    },
    {
      "cell_type": "markdown",
      "metadata": {},
      "source": [
        "### 5.1 Setup Loss and Optimizer"
      ]
    },
    {
      "cell_type": "code",
      "execution_count": 35,
      "metadata": {},
      "outputs": [],
      "source": [
        "binary_cross_loss = tf.losses.BinaryCrossentropy()"
      ]
    },
    {
      "cell_type": "code",
      "execution_count": 36,
      "metadata": {},
      "outputs": [],
      "source": [
        "opt = tf.keras.optimizers.Adam(1e-4) # 0.0001"
      ]
    },
    {
      "cell_type": "markdown",
      "metadata": {},
      "source": [
        "### 5.2 Estabilsh Checkpoints"
      ]
    },
    {
      "cell_type": "code",
      "execution_count": 37,
      "metadata": {},
      "outputs": [],
      "source": [
        "#Creating directory\n",
        "checkpoint_dir = os.path.join(APP_PATH , 'training_checkpoints')\n",
        "if(not os.path.exists(checkpoint_dir)):\n",
        "    print('Creating checkpoint directory')\n",
        "    os.makedirs(checkpoint_dir)\n",
        "\n",
        "checkpoint_prefix = os.path.join(checkpoint_dir, 'ckpt')\n",
        "checkpoint = tf.train.Checkpoint(opt=opt, siamese_model=siamese_model)\n",
        "# To reload from the checkpoint you can use model.load('path_to_checkpoint'). This will load the pre trained weights into the existing model"
      ]
    },
    {
      "cell_type": "markdown",
      "metadata": {},
      "source": [
        "### 5.3 Build Train Step Function"
      ]
    },
    {
      "cell_type": "markdown",
      "metadata": {},
      "source": [
        "The basic flow for training on one batch is as follow:\n",
        "1. Make a prediction\n",
        "2. Calculate loss\n",
        "3. Derive gradients\n",
        "4. Calculate new weights and apply"
      ]
    },
    {
      "cell_type": "code",
      "execution_count": 38,
      "metadata": {},
      "outputs": [],
      "source": [
        "# tf.function compiles a function into a callable TensorFlow graph\n",
        "@tf.function\n",
        "def train_step(batch):\n",
        "    \n",
        "    # Record all of our operations \n",
        "    with tf.GradientTape() as tape:     \n",
        "        # Get anchor and positive/negative image\n",
        "        X = batch[:2]\n",
        "        # Get label\n",
        "        y = batch[2]\n",
        "        \n",
        "        # Forward pass\n",
        "        # Need to set training to True because certain layers only activate when is training\n",
        "        yhat = siamese_model(X, training=True)\n",
        "        # Calculate loss\n",
        "        loss = binary_cross_loss(y, yhat)\n",
        "    print(loss)\n",
        "        \n",
        "    # Calculate gradients\n",
        "    grad = tape.gradient(loss, siamese_model.trainable_variables)\n",
        "    \n",
        "    # Calculate updated weights and apply to siamese model\n",
        "    opt.apply_gradients(zip(grad, siamese_model.trainable_variables))\n",
        "        \n",
        "    # Return loss\n",
        "    return loss"
      ]
    },
    {
      "cell_type": "markdown",
      "metadata": {},
      "source": [
        "### 5.4 Build Training Loop"
      ]
    },
    {
      "cell_type": "code",
      "execution_count": 39,
      "metadata": {},
      "outputs": [],
      "source": [
        "# Import metric calculations\n",
        "from tensorflow.keras.metrics import Precision, Recall"
      ]
    },
    {
      "cell_type": "code",
      "execution_count": 40,
      "metadata": {},
      "outputs": [],
      "source": [
        "# While the train_step function was focused on training for one batch, the loop here will be used to iterate over every batch in the dataset.\n",
        "def train(data, EPOCHS):\n",
        "    # Loop through epochs\n",
        "    for epoch in range(1, EPOCHS+1):\n",
        "        print('\\n Epoch {}/{}'.format(epoch, EPOCHS))\n",
        "        progbar = tf.keras.utils.Progbar(len(data))\n",
        "        \n",
        "        # Creating a metric object \n",
        "        r = Recall()\n",
        "        p = Precision()\n",
        "        \n",
        "        # Loop through each batch\n",
        "        for idx, batch in enumerate(data):\n",
        "            # Run train step here\n",
        "            loss = train_step(batch)\n",
        "            yhat = siamese_model.predict(batch[:2])\n",
        "            r.update_state(batch[2], yhat)\n",
        "            p.update_state(batch[2], yhat)\n",
        "            progbar.update(idx+1)\n",
        "        print(loss.numpy(), r.result().numpy(), p.result().numpy())\n",
        "        \n",
        "        # Save checkpoints\n",
        "        if epoch % 10 == 0: \n",
        "            checkpoint.save(file_prefix=checkpoint_prefix)\n",
        "\n",
        "    date = str(datetime.now())[:19]\n",
        "    # Save weights to load model and make pradictions without need to retrain\n",
        "    siamese_model.save('siamese_model_' + date + '.h5')"
      ]
    },
    {
      "cell_type": "markdown",
      "metadata": {},
      "source": [
        "### 5.5 Train the Model"
      ]
    },
    {
      "cell_type": "code",
      "execution_count": 41,
      "metadata": {},
      "outputs": [],
      "source": [
        "# Define epochs to train\n",
        "EPOCHS = 30\n",
        "ALREADY_TRAINED = True"
      ]
    },
    {
      "cell_type": "code",
      "execution_count": 34,
      "metadata": {},
      "outputs": [
        {
          "name": "stdout",
          "output_type": "stream",
          "text": [
            "\n",
            " Epoch 1/30\n",
            "Tensor(\"binary_crossentropy/weighted_loss/value:0\", shape=(), dtype=float32)\n",
            "Tensor(\"binary_crossentropy/weighted_loss/value:0\", shape=(), dtype=float32)\n",
            "40/40 [==============================] - 551s 14s/step\n",
            "0.26163772 0.722561 0.8464286\n",
            "\n",
            " Epoch 2/30\n",
            "40/40 [==============================] - 580s 15s/step\n",
            "0.1375475 0.9141104 0.9802632\n",
            "\n",
            " Epoch 3/30\n",
            "40/40 [==============================] - 514s 13s/step\n",
            "0.084050596 0.95757574 0.9937107\n",
            "\n",
            " Epoch 4/30\n",
            "40/40 [==============================] - 508s 13s/step\n",
            "0.05413679 0.9611651 1.0\n",
            "\n",
            " Epoch 5/30\n",
            "40/40 [==============================] - 508s 13s/step\n",
            "0.039105516 0.95238096 0.99667776\n",
            "\n",
            " Epoch 6/30\n",
            "40/40 [==============================] - 508s 13s/step\n",
            "0.035145015 0.9939394 1.0\n",
            "\n",
            " Epoch 7/30\n",
            "40/40 [==============================] - 509s 13s/step\n",
            "0.06220647 0.9936508 1.0\n",
            "\n",
            " Epoch 8/30\n",
            "40/40 [==============================] - 530s 13s/step\n",
            "0.059501074 0.96941894 1.0\n",
            "\n",
            " Epoch 9/30\n",
            "40/40 [==============================] - 553s 14s/step\n",
            "0.08294957 0.9689441 1.0\n",
            "\n",
            " Epoch 10/30\n",
            "40/40 [==============================] - 549s 14s/step\n",
            "0.18304686 0.99380803 1.0\n",
            "\n",
            " Epoch 11/30\n",
            "40/40 [==============================] - 562s 14s/step\n",
            "0.0028596923 0.99390244 1.0\n",
            "\n",
            " Epoch 12/30\n",
            "40/40 [==============================] - 551s 14s/step\n",
            "0.001717021 0.99059564 1.0\n",
            "\n",
            " Epoch 13/30\n",
            "40/40 [==============================] - 536s 13s/step\n",
            "0.009265758 1.0 1.0\n",
            "\n",
            " Epoch 14/30\n",
            "40/40 [==============================] - 528s 13s/step\n",
            "0.0014602016 0.9874214 1.0\n",
            "\n",
            " Epoch 15/30\n",
            "40/40 [==============================] - 537s 13s/step\n",
            "0.27903846 0.9968553 1.0\n",
            "\n",
            " Epoch 16/30\n",
            "40/40 [==============================] - 533s 13s/step\n",
            "0.06567325 0.9753846 1.0\n",
            "\n",
            " Epoch 17/30\n",
            "40/40 [==============================] - 535s 13s/step\n",
            "0.058463626 1.0 1.0\n",
            "\n",
            " Epoch 18/30\n",
            "40/40 [==============================] - 550s 14s/step\n",
            "0.018389616 0.99378884 1.0\n",
            "\n",
            " Epoch 19/30\n",
            "40/40 [==============================] - 540s 13s/step\n",
            "0.0033509354 1.0 1.0\n",
            "\n",
            " Epoch 20/30\n",
            "40/40 [==============================] - 539s 13s/step\n",
            "0.10497357 1.0 1.0\n",
            "\n",
            " Epoch 21/30\n",
            "40/40 [==============================] - 540s 13s/step\n",
            "0.01613575 1.0 1.0\n",
            "\n",
            " Epoch 22/30\n",
            "40/40 [==============================] - 550s 14s/step\n",
            "0.036537066 1.0 1.0\n",
            "\n",
            " Epoch 23/30\n",
            "40/40 [==============================] - 542s 14s/step\n",
            "0.0017244954 0.99375 1.0\n",
            "\n",
            " Epoch 24/30\n",
            "40/40 [==============================] - 544s 14s/step\n",
            "0.06282832 1.0 1.0\n",
            "\n",
            " Epoch 25/30\n",
            "40/40 [==============================] - 534s 13s/step\n",
            "0.0013264697 1.0 1.0\n",
            "\n",
            " Epoch 26/30\n",
            "40/40 [==============================] - 550s 14s/step\n",
            "0.013497825 1.0 1.0\n",
            "\n",
            " Epoch 27/30\n",
            "40/40 [==============================] - 535s 13s/step\n",
            "0.0025936854 1.0 1.0\n",
            "\n",
            " Epoch 28/30\n",
            "40/40 [==============================] - 546s 13s/step\n",
            "0.0056163818 1.0 1.0\n",
            "\n",
            " Epoch 29/30\n",
            "40/40 [==============================] - 512s 13s/step\n",
            "7.570045e-06 1.0 1.0\n",
            "\n",
            " Epoch 30/30\n",
            "40/40 [==============================] - 520s 13s/step\n",
            "0.0017977979 1.0 1.0\n"
          ]
        }
      ],
      "source": [
        "if not ALREADY_TRAINED: \n",
        "    train(train_data, EPOCHS)"
      ]
    },
    {
      "cell_type": "markdown",
      "metadata": {},
      "source": [
        "# Part 6"
      ]
    },
    {
      "cell_type": "markdown",
      "metadata": {},
      "source": [
        "## 6. Evaluate Model"
      ]
    },
    {
      "cell_type": "markdown",
      "metadata": {},
      "source": [
        "### 6.1 Import Metrics"
      ]
    },
    {
      "cell_type": "code",
      "execution_count": 64,
      "metadata": {},
      "outputs": [],
      "source": [
        "# Import metric calculations\n",
        "from tensorflow.keras.metrics import Precision, Recall"
      ]
    },
    {
      "cell_type": "markdown",
      "metadata": {},
      "source": [
        "### 6.2 Make Predictions"
      ]
    },
    {
      "cell_type": "code",
      "execution_count": 65,
      "metadata": {},
      "outputs": [],
      "source": [
        "# Get a batch of test data\n",
        "test_input, test_val, y_true = test_data.as_numpy_iterator().next()"
      ]
    },
    {
      "cell_type": "code",
      "execution_count": 66,
      "metadata": {},
      "outputs": [],
      "source": [
        "y_hat = siamese_model.predict([test_input, test_val])"
      ]
    },
    {
      "cell_type": "code",
      "execution_count": 67,
      "metadata": {},
      "outputs": [
        {
          "data": {
            "text/plain": [
              "[0, 1, 1, 1, 0, 1, 1, 1, 1, 0, 1, 0, 1, 0, 1, 0]"
            ]
          },
          "execution_count": 67,
          "metadata": {},
          "output_type": "execute_result"
        }
      ],
      "source": [
        "# Post processing the results \n",
        "[1 if prediction > 0.5 else 0 for prediction in y_hat ]"
      ]
    },
    {
      "cell_type": "code",
      "execution_count": 68,
      "metadata": {},
      "outputs": [
        {
          "data": {
            "text/plain": [
              "array([0., 1., 0., 1., 0., 1., 1., 1., 1., 0., 1., 0., 1., 0., 1., 1.],\n",
              "      dtype=float32)"
            ]
          },
          "execution_count": 68,
          "metadata": {},
          "output_type": "execute_result"
        }
      ],
      "source": [
        "y_true"
      ]
    },
    {
      "cell_type": "markdown",
      "metadata": {},
      "source": [
        "### 6.3 Calculate Metrics"
      ]
    },
    {
      "cell_type": "markdown",
      "metadata": {},
      "source": [
        "#### 6.3.1 Calculating for one batch"
      ]
    },
    {
      "cell_type": "code",
      "execution_count": 69,
      "metadata": {},
      "outputs": [
        {
          "data": {
            "text/plain": [
              "0.9"
            ]
          },
          "execution_count": 69,
          "metadata": {},
          "output_type": "execute_result"
        }
      ],
      "source": [
        "# Creating a metric object \n",
        "# Recall shows what proportion of actual positives were identified correctly.\n",
        "m = Recall()\n",
        "\n",
        "# Calculating the recall value \n",
        "m.update_state(y_true, y_hat)\n",
        "\n",
        "# Return Recall Result\n",
        "m.result().numpy()"
      ]
    },
    {
      "cell_type": "code",
      "execution_count": 70,
      "metadata": {},
      "outputs": [
        {
          "data": {
            "text/plain": [
              "0.9"
            ]
          },
          "execution_count": 70,
          "metadata": {},
          "output_type": "execute_result"
        }
      ],
      "source": [
        "# Creating a metric object \n",
        "# Precision demonstrates what proportion of positive identifications were actually correct.\n",
        "m = Precision()\n",
        "\n",
        "# Calculating the recall value \n",
        "m.update_state(y_true, y_hat)\n",
        "\n",
        "# Return Recall Result\n",
        "m.result().numpy()"
      ]
    },
    {
      "cell_type": "markdown",
      "metadata": {},
      "source": [
        "#### Calculating for all batchs"
      ]
    },
    {
      "cell_type": "code",
      "execution_count": 71,
      "metadata": {},
      "outputs": [
        {
          "name": "stdout",
          "output_type": "stream",
          "text": [
            "0.8625 0.97183096\n"
          ]
        }
      ],
      "source": [
        "r = Recall()\n",
        "p = Precision()\n",
        "\n",
        "for test_input, test_val, y_true in test_data.as_numpy_iterator():\n",
        "    yhat = siamese_model.predict([test_input, test_val])\n",
        "    r.update_state(y_true, yhat)\n",
        "    p.update_state(y_true,yhat) \n",
        "\n",
        "print(r.result().numpy(), p.result().numpy())"
      ]
    },
    {
      "cell_type": "markdown",
      "metadata": {},
      "source": [
        "### 6.4 Viz Results"
      ]
    },
    {
      "cell_type": "code",
      "execution_count": 75,
      "metadata": {},
      "outputs": [
        {
          "data": {
            "image/png": "[encoded data removed]",
            "text/plain": [
              "<Figure size 1000x800 with 2 Axes>"
            ]
          },
          "metadata": {},
          "output_type": "display_data"
        }
      ],
      "source": [
        "# Set plot size \n",
        "plt.figure(figsize=(10,8))\n",
        "\n",
        "# Set first subplot\n",
        "plt.subplot(1,2,1)\n",
        "plt.imshow(test_input[0])\n",
        "\n",
        "# Set second subplot\n",
        "plt.subplot(1,2,2)\n",
        "plt.imshow(test_val[0])\n",
        "\n",
        "# Renders cleanly\n",
        "plt.show()"
      ]
    },
    {
      "cell_type": "code",
      "execution_count": 76,
      "metadata": {},
      "outputs": [
        {
          "data": {
            "image/png": "[encoded data removed]",
            "text/plain": [
              "<Figure size 1000x800 with 2 Axes>"
            ]
          },
          "metadata": {},
          "output_type": "display_data"
        }
      ],
      "source": [
        "# Set plot size \n",
        "plt.figure(figsize=(10,8))\n",
        "\n",
        "# Set first subplot\n",
        "plt.subplot(1,2,1)\n",
        "plt.imshow(test_input[3])\n",
        "\n",
        "# Set second subplot\n",
        "plt.subplot(1,2,2)\n",
        "plt.imshow(test_val[3])\n",
        "\n",
        "# Renders cleanly\n",
        "plt.show()"
      ]
    },
    {
      "cell_type": "markdown",
      "metadata": {},
      "source": [
        "# Part 7"
      ]
    },
    {
      "cell_type": "markdown",
      "metadata": {},
      "source": [
        "## 7. Save and Load Model"
      ]
    },
    {
      "cell_type": "code",
      "execution_count": 63,
      "metadata": {},
      "outputs": [],
      "source": [
        "date = str(datetime.now())[:19]\n",
        "# Save weights\n",
        "# The train function already do the save.\n",
        "# siamese_model.save('siamese_model_' + date + '.h5')"
      ]
    },
    {
      "cell_type": "code",
      "execution_count": 54,
      "metadata": {},
      "outputs": [],
      "source": [
        "# Reload model\n",
        "# Something cool, you can create different models and save them. Here you can choose the one that you want to work with.\n",
        "siamese_model = tf.keras.models.load_model('siamese_model_400_30.h5', compile=False, \n",
        "                                   custom_objects={'L1Dist':L1Dist, 'BinaryCrossentropy':tf.losses.BinaryCrossentropy})"
      ]
    },
    {
      "cell_type": "code",
      "execution_count": 55,
      "metadata": {},
      "outputs": [
        {
          "data": {
            "text/plain": [
              "array([[8.8488066e-01],\n",
              "       [3.5723467e-06],\n",
              "       [3.4811887e-07],\n",
              "       [9.9920458e-01],\n",
              "       [6.2828853e-08],\n",
              "       [7.6203079e-08],\n",
              "       [8.9617383e-01],\n",
              "       [1.0697000e-09],\n",
              "       [1.0569963e-06],\n",
              "       [3.8468957e-01],\n",
              "       [1.7482838e-01],\n",
              "       [3.8488881e-07],\n",
              "       [9.9511588e-01],\n",
              "       [8.7897533e-06],\n",
              "       [9.7063410e-01],\n",
              "       [2.2235334e-01]], dtype=float32)"
            ]
          },
          "execution_count": 55,
          "metadata": {},
          "output_type": "execute_result"
        }
      ],
      "source": [
        "# Make predictions with reloaded model\n",
        "siamese_model.predict([test_input, test_val])"
      ]
    },
    {
      "cell_type": "code",
      "execution_count": 56,
      "metadata": {},
      "outputs": [
        {
          "name": "stdout",
          "output_type": "stream",
          "text": [
            "Model: \"SiameseNetwork\"\n",
            "__________________________________________________________________________________________________\n",
            "Layer (type)                    Output Shape         Param #     Connected to                     \n",
            "==================================================================================================\n",
            "input_img (InputLayer)          [(None, 100, 100, 3) 0                                            \n",
            "__________________________________________________________________________________________________\n",
            "validation_img (InputLayer)     [(None, 100, 100, 3) 0                                            \n",
            "__________________________________________________________________________________________________\n",
            "embedding (Functional)          (None, 4096)         38960448    input_img[0][0]                  \n",
            "                                                                 validation_img[0][0]             \n",
            "__________________________________________________________________________________________________\n",
            "l1_dist_2 (L1Dist)              (None, 4096)         0           embedding[0][0]                  \n",
            "                                                                 embedding[1][0]                  \n",
            "__________________________________________________________________________________________________\n",
            "dense_1 (Dense)                 (None, 1)            4097        l1_dist_2[0][0]                  \n",
            "==================================================================================================\n",
            "Total params: 38,964,545\n",
            "Trainable params: 38,964,545\n",
            "Non-trainable params: 0\n",
            "__________________________________________________________________________________________________\n"
          ]
        }
      ],
      "source": [
        "# View model summary\n",
        "siamese_model.summary()"
      ]
    },
    {
      "cell_type": "markdown",
      "metadata": {},
      "source": [
        "# Part 8"
      ]
    },
    {
      "cell_type": "markdown",
      "metadata": {},
      "source": [
        "## 8. Real Time Test"
      ]
    },
    {
      "cell_type": "markdown",
      "metadata": {},
      "source": [
        "### 8.1 Verification Function"
      ]
    },
    {
      "cell_type": "markdown",
      "metadata": {},
      "source": [
        "![Verification Explanation](verification-explanation.png)"
      ]
    },
    {
      "cell_type": "markdown",
      "metadata": {},
      "source": [
        "Next steps:\n",
        "1. create directory application_data\n",
        "2. create directory application_data/verification_images\n",
        "3. create directory application_data/input_image\n",
        "4. Go to data, then positive samples, then and grap some images (50) and copy them to the verification_images"
      ]
    },
    {
      "cell_type": "code",
      "execution_count": 57,
      "metadata": {},
      "outputs": [
        {
          "data": {
            "text/plain": [
              "['47de7408-6bef-11ed-886b-073aaa4b2cb1.jpg',\n",
              " 'e9a4fe94-6bee-11ed-886b-073aaa4b2cb1.jpg',\n",
              " '44422b2d-6bef-11ed-886b-073aaa4b2cb1.jpg',\n",
              " '0806654f-6bef-11ed-886b-073aaa4b2cb1.jpg',\n",
              " 'f8e2a62b-6bee-11ed-886b-073aaa4b2cb1.jpg',\n",
              " '8eafe1ca-6bee-11ed-886b-073aaa4b2cb1.jpg',\n",
              " 'e393aa9f-6bee-11ed-886b-073aaa4b2cb1.jpg',\n",
              " '6559047c-6bef-11ed-886b-073aaa4b2cb1.jpg',\n",
              " 'ecf7c458-6bee-11ed-886b-073aaa4b2cb1.jpg',\n",
              " '61d7a79c-6bef-11ed-886b-073aaa4b2cb1.jpg',\n",
              " 'e0374b3a-6bee-11ed-886b-073aaa4b2cb1.jpg',\n",
              " 'ebd9deb3-6bee-11ed-886b-073aaa4b2cb1.jpg',\n",
              " '0593c042-6bef-11ed-886b-073aaa4b2cb1.jpg',\n",
              " '42e69ab2-6bef-11ed-886b-073aaa4b2cb1.jpg',\n",
              " 'd10aded3-6bee-11ed-886b-073aaa4b2cb1.jpg',\n",
              " '0209dd6a-6bef-11ed-886b-073aaa4b2cb1.jpg',\n",
              " '0209dd6d-6bef-11ed-886b-073aaa4b2cb1.jpg',\n",
              " 'd23265e3-6bee-11ed-886b-073aaa4b2cb1.jpg',\n",
              " 'fe4494ce-6bee-11ed-886b-073aaa4b2cb1.jpg',\n",
              " '8d44770f-6bee-11ed-886b-073aaa4b2cb1.jpg',\n",
              " '0806654d-6bef-11ed-886b-073aaa4b2cb1.jpg',\n",
              " '4ceab0ac-6bef-11ed-886b-073aaa4b2cb1.jpg',\n",
              " '247cfc62-6bef-11ed-886b-073aaa4b2cb1.jpg',\n",
              " '236251fc-6bef-11ed-886b-073aaa4b2cb1.jpg',\n",
              " '18965cbe-6bef-11ed-886b-073aaa4b2cb1.jpg',\n",
              " '8eafe1c8-6bee-11ed-886b-073aaa4b2cb1.jpg',\n",
              " '5f7f9ea9-6bef-11ed-886b-073aaa4b2cb1.jpg',\n",
              " '1f475660-6bef-11ed-886b-073aaa4b2cb1.jpg',\n",
              " '00a7e23d-6bef-11ed-886b-073aaa4b2cb1.jpg',\n",
              " '65590480-6bef-11ed-886b-073aaa4b2cb1.jpg',\n",
              " '466e2c0f-6bef-11ed-886b-073aaa4b2cb1.jpg',\n",
              " '1b185709-6bef-11ed-886b-073aaa4b2cb1.jpg',\n",
              " '5d2400f5-6bef-11ed-886b-073aaa4b2cb1.jpg',\n",
              " 'e86738c5-6bee-11ed-886b-073aaa4b2cb1.jpg',\n",
              " '2a82f9d2-6bef-11ed-886b-073aaa4b2cb1.jpg',\n",
              " 'e4aed340-6bee-11ed-886b-073aaa4b2cb1.jpg',\n",
              " '4ceab0ab-6bef-11ed-886b-073aaa4b2cb1.jpg',\n",
              " '6994a8b4-6bee-11ed-886b-073aaa4b2cb1.jpg',\n",
              " '41e78c47-6bef-11ed-886b-073aaa4b2cb1.jpg',\n",
              " '6559047f-6bef-11ed-886b-073aaa4b2cb1.jpg',\n",
              " '247cfc58-6bef-11ed-886b-073aaa4b2cb1.jpg',\n",
              " '45a95dbe-6bef-11ed-886b-073aaa4b2cb1.jpg',\n",
              " 'ff88247b-6bee-11ed-886b-073aaa4b2cb1.jpg',\n",
              " 'e6333d6f-6bee-11ed-886b-073aaa4b2cb1.jpg',\n",
              " '939e6af6-6bee-11ed-886b-073aaa4b2cb1.jpg',\n",
              " '60c85b88-6bef-11ed-886b-073aaa4b2cb1.jpg',\n",
              " 'fd35f34e-6bee-11ed-886b-073aaa4b2cb1.jpg',\n",
              " '00a7e23a-6bef-11ed-886b-073aaa4b2cb1.jpg',\n",
              " '1f47565b-6bef-11ed-886b-073aaa4b2cb1.jpg',\n",
              " 'e393aaa3-6bee-11ed-886b-073aaa4b2cb1.jpg']"
            ]
          },
          "execution_count": 57,
          "metadata": {},
          "output_type": "execute_result"
        }
      ],
      "source": [
        "os.listdir(os.path.join('application_data', 'verification_images'))"
      ]
    },
    {
      "cell_type": "code",
      "execution_count": 77,
      "metadata": {},
      "outputs": [],
      "source": [
        "def verify(model, detection_threshold, verification_threshold):\n",
        "    # Build results array\n",
        "    results = []\n",
        "    for image in os.listdir(os.path.join('application_data', 'verification_images')):\n",
        "        input_img = pre_process(os.path.join('application_data', 'input_image', 'input_image.jpg'))\n",
        "        validation_img = pre_process(os.path.join('application_data', 'verification_images', image))\n",
        "        \n",
        "        # Make Predictions \n",
        "        result = model.predict(list(np.expand_dims([input_img, validation_img], axis=1)))\n",
        "        results.append(result)\n",
        "    \n",
        "    # Detection Threshold: Metric above which a prediciton is considered positive \n",
        "    detection = np.sum(np.array(results) > detection_threshold)\n",
        "    \n",
        "    # Verification Threshold: Proportion of positive predictions / total positive samples \n",
        "    verification = detection / len(os.listdir(os.path.join('application_data', 'verification_images'))) \n",
        "    verified = verification > verification_threshold\n",
        "\n",
        "    print('Results:')\n",
        "    print(len(results))\n",
        "    print('Detection: ')\n",
        "    print(detection)\n",
        "    print('Verification: ')\n",
        "    print(verification)\n",
        "    print('Verified: ')\n",
        "    print(verified)\n",
        "    \n",
        "    return results, verified"
      ]
    },
    {
      "cell_type": "markdown",
      "metadata": {},
      "source": [
        "### 8.2 OpenCV Real Time Verification"
      ]
    },
    {
      "cell_type": "code",
      "execution_count": 78,
      "metadata": {},
      "outputs": [],
      "source": [
        "# Increase thresholds to avoid false positives\n",
        "# Detection Threshold: Metric above which a prediciton is considered positive \n",
        "# Verification Threshold: Proportion of positive predictions / total positive samples \n",
        "DETECTION_THRESHOLD = 0.8\n",
        "VERIFICATION_THRESHOLD = 0.8\n"
      ]
    },
    {
      "cell_type": "code",
      "execution_count": 56,
      "metadata": {},
      "outputs": [
        {
          "name": "stdout",
          "output_type": "stream",
          "text": [
            "Results:\n",
            "50\n",
            "Detection: \n",
            "49\n",
            "Verification: \n",
            "0.98\n",
            "Verified: \n",
            "True\n",
            "True\n",
            "Results:\n",
            "50\n",
            "Detection: \n",
            "50\n",
            "Verification: \n",
            "1.0\n",
            "Verified: \n",
            "True\n",
            "True\n",
            "Results:\n",
            "50\n",
            "Detection: \n",
            "50\n",
            "Verification: \n",
            "1.0\n",
            "Verified: \n",
            "True\n",
            "True\n",
            "Results:\n",
            "50\n",
            "Detection: \n",
            "50\n",
            "Verification: \n",
            "1.0\n",
            "Verified: \n",
            "True\n",
            "True\n"
          ]
        }
      ],
      "source": [
        "cap = cv2.VideoCapture(WEBCAM_DEVICE_NUMBER)\n",
        "while cap.isOpened():\n",
        "    ret, frame = cap.read()\n",
        "    frame = frame[120:120+250,200:200+250, :]\n",
        "    \n",
        "    cv2.imshow('Verification', frame)\n",
        "    \n",
        "    # Verification trigger\n",
        "    if cv2.waitKey(10) & 0xFF == ord('v'):\n",
        "        # Save input image to application_data/input_image folder \n",
        "        cv2.imwrite(os.path.join('application_data', 'input_image', 'input_image.jpg'), frame)\n",
        "        \n",
        "        # Run verification\n",
        "        results, verified = verify(siamese_model, DETECTION_THRESHOLD, VERIFICATION_THRESHOLD)\n",
        "        print(verified)\n",
        "    \n",
        "    if cv2.waitKey(10) & 0xFF == ord('q'):\n",
        "        break\n",
        "cap.release()\n",
        "cv2.destroyAllWindows()"
      ]
    },
    {
      "cell_type": "code",
      "execution_count": 56,
      "metadata": {},
      "outputs": [
        {
          "data": {
            "text/plain": [
              "[array([[0.9977186]], dtype=float32),\n",
              " array([[0.979723]], dtype=float32),\n",
              " array([[0.9998375]], dtype=float32),\n",
              " array([[0.46436992]], dtype=float32),\n",
              " array([[1.]], dtype=float32),\n",
              " array([[0.99287206]], dtype=float32),\n",
              " array([[1.]], dtype=float32),\n",
              " array([[0.99571085]], dtype=float32),\n",
              " array([[0.79686785]], dtype=float32),\n",
              " array([[0.98596525]], dtype=float32),\n",
              " array([[1.]], dtype=float32),\n",
              " array([[0.9776808]], dtype=float32),\n",
              " array([[1.]], dtype=float32),\n",
              " array([[0.99974227]], dtype=float32),\n",
              " array([[0.9997016]], dtype=float32),\n",
              " array([[1.]], dtype=float32),\n",
              " array([[1.]], dtype=float32),\n",
              " array([[0.9986577]], dtype=float32),\n",
              " array([[1.]], dtype=float32),\n",
              " array([[0.99987364]], dtype=float32),\n",
              " array([[0.08966964]], dtype=float32),\n",
              " array([[0.9921473]], dtype=float32),\n",
              " array([[1.]], dtype=float32),\n",
              " array([[1.]], dtype=float32),\n",
              " array([[0.99999917]], dtype=float32),\n",
              " array([[0.89544797]], dtype=float32),\n",
              " array([[0.98206806]], dtype=float32),\n",
              " array([[0.9807397]], dtype=float32),\n",
              " array([[1.]], dtype=float32),\n",
              " array([[0.999806]], dtype=float32),\n",
              " array([[0.99997413]], dtype=float32),\n",
              " array([[0.99941003]], dtype=float32),\n",
              " array([[0.9998622]], dtype=float32),\n",
              " array([[0.9994863]], dtype=float32),\n",
              " array([[1.]], dtype=float32),\n",
              " array([[0.99905384]], dtype=float32),\n",
              " array([[0.9910675]], dtype=float32),\n",
              " array([[0.7057917]], dtype=float32),\n",
              " array([[0.99967265]], dtype=float32),\n",
              " array([[0.99606764]], dtype=float32),\n",
              " array([[1.]], dtype=float32),\n",
              " array([[0.9990215]], dtype=float32),\n",
              " array([[1.]], dtype=float32),\n",
              " array([[1.]], dtype=float32),\n",
              " array([[0.99901974]], dtype=float32),\n",
              " array([[0.9454856]], dtype=float32),\n",
              " array([[1.]], dtype=float32),\n",
              " array([[1.]], dtype=float32),\n",
              " array([[0.99394107]], dtype=float32),\n",
              " array([[0.99999964]], dtype=float32)]"
            ]
          },
          "execution_count": 56,
          "metadata": {},
          "output_type": "execute_result"
        }
      ],
      "source": [
        "results"
      ]
    },
    {
      "cell_type": "code",
      "execution_count": 58,
      "metadata": {},
      "outputs": [
        {
          "data": {
            "text/plain": [
              "0.8"
            ]
          },
          "execution_count": 58,
          "metadata": {},
          "output_type": "execute_result"
        }
      ],
      "source": [
        "40 / 50"
      ]
    },
    {
      "cell_type": "markdown",
      "metadata": {},
      "source": [
        "## NEXT STEPS: Build the Facial Recognizer APP with Kivy"
      ]
    }
  ],
  "metadata": {
    "colab": {
      "provenance": []
    },
    "kernelspec": {
      "display_name": "Python 3.8.10 64-bit",
      "language": "python",
      "name": "python3"
    },
    "language_info": {
      "codemirror_mode": {
        "name": "ipython",
        "version": 3
      },
      "file_extension": ".py",
      "mimetype": "text/x-python",
      "name": "python",
      "nbconvert_exporter": "python",
      "pygments_lexer": "ipython3",
      "version": "3.8.10"
    },
    "vscode": {
      "interpreter": {
        "hash": "916dbcbb3f70747c44a77c7bcd40155683ae19c65e1c03b4aa3499c5328201f1"
      }
    }
  },
  "nbformat": 4,
  "nbformat_minor": 0
}
