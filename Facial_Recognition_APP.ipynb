{
  "cells": [
    {
      "cell_type": "markdown",
      "metadata": {
        "id": "0AXuDVPtzoQV"
      },
      "source": [
        "# **Part Nº 1**"
      ]
    },
    {
      "cell_type": "markdown",
      "metadata": {
        "id": "7EB498fPW5_p"
      },
      "source": [
        "### **1.1 Install Dependencies**"
      ]
    },
    {
      "cell_type": "code",
      "execution_count": 7,
      "metadata": {
        "colab": {
          "base_uri": "https://localhost:8080/",
          "height": 1000
        },
        "id": "qn_dQ8oLWjSc",
        "outputId": "5560dd52-b98c-47c2-ddc8-fef1c93e820e"
      },
      "outputs": [],
      "source": [
        "# %pip install tensorflow==2.4.1 tensorflow-gpu==2.4.1 opencv-python matplotlib"
      ]
    },
    {
      "cell_type": "markdown",
      "metadata": {
        "id": "mrO-m9elW9o0"
      },
      "source": [
        "### **1.2 Import Dependencies**"
      ]
    },
    {
      "cell_type": "code",
      "execution_count": 8,
      "metadata": {
        "id": "pSmQGDpJW2ck"
      },
      "outputs": [],
      "source": [
        "import os\n",
        "import cv2\n",
        "import random\n",
        "import numpy as np \n",
        "from matplotlib import pyplot as plt\n",
        "from datetime import datetime"
      ]
    },
    {
      "cell_type": "code",
      "execution_count": 9,
      "metadata": {
        "id": "hWD8VC-XYaeW"
      },
      "outputs": [],
      "source": [
        "#Import tensorflow API\n",
        "import tensorflow as tf\n",
        "from tensorflow.keras.models import Model\n",
        "from tensorflow.keras.layers import Layer, Conv2D, Dense, MaxPooling2D, Input, Flatten"
      ]
    },
    {
      "cell_type": "markdown",
      "metadata": {
        "id": "RLtIHy6RYPpC"
      },
      "source": [
        "### **1.3 Set GPU Growth**"
      ]
    },
    {
      "cell_type": "code",
      "execution_count": 10,
      "metadata": {
        "colab": {
          "base_uri": "https://localhost:8080/"
        },
        "id": "qYUBfXWlYVjF",
        "outputId": "8c2d5b25-5b49-471f-902c-8cc1067253ca"
      },
      "outputs": [
        {
          "name": "stdout",
          "output_type": "stream",
          "text": [
            "[]\n"
          ]
        },
        {
          "name": "stderr",
          "output_type": "stream",
          "text": [
            "2022-11-28 15:23:53.678488: I tensorflow/compiler/jit/xla_cpu_device.cc:41] Not creating XLA devices, tf_xla_enable_xla_devices not set\n",
            "2022-11-28 15:23:53.680641: I tensorflow/stream_executor/platform/default/dso_loader.cc:49] Successfully opened dynamic library libcuda.so.1\n",
            "2022-11-28 15:23:53.712441: E tensorflow/stream_executor/cuda/cuda_driver.cc:328] failed call to cuInit: CUDA_ERROR_NO_DEVICE: no CUDA-capable device is detected\n",
            "2022-11-28 15:23:53.712472: I tensorflow/stream_executor/cuda/cuda_diagnostics.cc:156] kernel driver does not appear to be running on this host (jarvis): /proc/driver/nvidia/version does not exist\n"
          ]
        }
      ],
      "source": [
        "#Avoid OOM errors by setting GPU Memory Consumption Grotwh\n",
        "#Acessando todas as gpus da máquina\n",
        "gpus = tf.config.experimental.list_physical_devices('GPU')\n",
        "print(gpus)\n",
        "\n",
        "# Liberando o crescimento de uso da memória \n",
        "for gpu in gpus:\n",
        "  print(gpu)\n",
        "  tf.config.experimental.set_memory_growth(gpu, True)"
      ]
    },
    {
      "cell_type": "markdown",
      "metadata": {
        "id": "4Gz92iG-atGC"
      },
      "source": [
        "### **1.4 Create Folder Structures**"
      ]
    },
    {
      "cell_type": "code",
      "execution_count": 11,
      "metadata": {
        "id": "YHDts_4Bawlk"
      },
      "outputs": [],
      "source": [
        "#Setup paths\n",
        "#Teremos 3 pastas base, anchor (imagem sendo colocada a prova), postive (imagem de pessoas que queremos verificar), negative (imagens de pessoas que não queremos identificar)\n",
        "#APP_PATH = '/content/drive/MyDrive/Mestrado/CADEIRAS/Aprendizagem de Maquina/facial-recognition-app'\n",
        "APP_PATH = '/home/gabriel/Documentos/mestrado/am/notebooks/face-recognition-app'\n",
        "POS_PATH = os.path.join(APP_PATH, 'data', 'positive')\n",
        "NEG_PATH = os.path.join(APP_PATH, 'data', 'negative')\n",
        "ANC_PATH = os.path.join(APP_PATH, 'data', 'anchor')"
      ]
    },
    {
      "cell_type": "code",
      "execution_count": 12,
      "metadata": {
        "id": "hH1tljonb7Bt"
      },
      "outputs": [],
      "source": [
        "#Criando diretórios\n",
        "dirnames = [POS_PATH, NEG_PATH, ANC_PATH]\n",
        "for dir in dirnames:\n",
        "  if(not os.path.exists(dir)):\n",
        "    print('Creating directory: ', dir)\n",
        "    os.makedirs(dir)"
      ]
    },
    {
      "cell_type": "markdown",
      "metadata": {
        "id": "bMKFwR2ld-LS"
      },
      "source": [
        "# **Part Nº 2**"
      ]
    },
    {
      "cell_type": "markdown",
      "metadata": {
        "id": "ozSzxzlhedIH"
      },
      "source": [
        "## **2. Collect Positives and Anchors**"
      ]
    },
    {
      "cell_type": "markdown",
      "metadata": {
        "id": "Bp1kI8_ueCT-"
      },
      "source": [
        "### **2.1 Untar Labelled Faces int the Wild Dataset**"
      ]
    },
    {
      "cell_type": "markdown",
      "metadata": {
        "id": "0W5nsbzAjuSZ"
      },
      "source": [
        "#### **1.   Acess http://vis-www.cs.umass.edu/lfw/**\n",
        "#### **2.   At the menu, go to Download option**\n",
        "#### **3.   Download database option 'All images as gzipped tar file'** "
      ]
    },
    {
      "cell_type": "code",
      "execution_count": 13,
      "metadata": {
        "colab": {
          "base_uri": "https://localhost:8080/"
        },
        "id": "EbCardWugb0P",
        "outputId": "b89804cb-3067-4f63-804e-36244b5b4d16"
      },
      "outputs": [],
      "source": [
        "# http://vis-www.cs.umass.edu/lfw/\n",
        "# Uncompress Tar GZ Labelled Faces in the Wild Dataset\n",
        "TGZ_PATH = os.path.join(APP_PATH, 'lfw.tgz')\n",
        "# !tar -xf '/content/drive/MyDrive/Mestrado/CADEIRAS/Aprendizagem de Maquina/facial-recognition-app/lfw.tgz' -C '/content/drive/MyDrive/Mestrado/CADEIRAS/Aprendizagem de Maquina/facial-recognition-app/'"
      ]
    },
    {
      "cell_type": "code",
      "execution_count": 14,
      "metadata": {},
      "outputs": [],
      "source": [
        "def move_to_negative_path():\n",
        "    # Move LFW Images to the following repository data/negative\n",
        "    for directory in os.listdir('lfw'):\n",
        "        for file in os.listdir(os.path.join('lfw', directory)):\n",
        "            print(file)\n",
        "            EX_PATH = os.path.join('lfw', directory, file)\n",
        "            NEW_PATH = os.path.join(NEG_PATH, file)\n",
        "            os.replace(EX_PATH, NEW_PATH)"
      ]
    },
    {
      "cell_type": "code",
      "execution_count": 15,
      "metadata": {
        "id": "n8C_EEzL5eqt"
      },
      "outputs": [],
      "source": [
        "#move_to_negative_path()"
      ]
    },
    {
      "cell_type": "markdown",
      "metadata": {
        "id": "c_LTgCcFeVa-"
      },
      "source": [
        "### **2.2 Collect Positive and Anchor Classes**"
      ]
    },
    {
      "cell_type": "code",
      "execution_count": 16,
      "metadata": {},
      "outputs": [],
      "source": [
        "# Import uuid library to generate unique image names\n",
        "import uuid"
      ]
    },
    {
      "cell_type": "code",
      "execution_count": 17,
      "metadata": {},
      "outputs": [],
      "source": [
        "WEBCAM_DEVICE_NUMBER = 0"
      ]
    },
    {
      "cell_type": "code",
      "execution_count": 18,
      "metadata": {
        "id": "NuKwAYUZPTU_"
      },
      "outputs": [],
      "source": [
        "# Esablish a connection to the webcam\n",
        "# If you get a empty error or can't open camera by index error, try another number (ex. 4)\n",
        "cap = cv2.VideoCapture(WEBCAM_DEVICE_NUMBER)\n",
        "while cap.isOpened():\n",
        "  ret, frame = cap.read()\n",
        "\n",
        "  # Cut down frame to 250x250px\n",
        "  frame = frame[120:120+250, 200:200+250, : ]\n",
        "\n",
        "  # Show image back to screen \n",
        "  cv2.imshow('Image Collection', frame)\n",
        "\n",
        "  # Collect Anchors\n",
        "  if(cv2.waitKey(1) & 0XFF == ord('a')):\n",
        "    # Create the unique file path\n",
        "    imgname = os.path.join(ANC_PATH, '{}.jpg'.format(uuid.uuid1()))\n",
        "    # Write out anchor image\n",
        "    cv2.imwrite(imgname, frame)\n",
        "\n",
        "\n",
        "  # Collect Positives\n",
        "  elif(cv2.waitKey(1) & 0XFF == ord('p')):\n",
        "    # Create the unique file path\n",
        "    imgname = os.path.join(POS_PATH, '{}.jpg'.format(uuid.uuid1()))\n",
        "    # Write out positive image\n",
        "    cv2.imwrite(imgname, frame)\n",
        "\n",
        "  # Breaking gracefully\n",
        "  elif(cv2.waitKey(1) & 0XFF == ord('q')):\n",
        "    break\n",
        "\n",
        "# Release the webcam\n",
        "cap.release()\n",
        "# Close the image show frame\n",
        "cv2.destroyAllWindows()\n"
      ]
    },
    {
      "cell_type": "code",
      "execution_count": 10,
      "metadata": {},
      "outputs": [
        {
          "data": {
            "text/plain": [
              "(250, 250, 3)"
            ]
          },
          "execution_count": 10,
          "metadata": {},
          "output_type": "execute_result"
        }
      ],
      "source": [
        "frame.shape"
      ]
    },
    {
      "cell_type": "markdown",
      "metadata": {},
      "source": [
        "# Part 3"
      ]
    },
    {
      "cell_type": "markdown",
      "metadata": {
        "id": "C6TRjUtqf9x_"
      },
      "source": [
        "## **3. Load and Preprocess Images**"
      ]
    },
    {
      "cell_type": "markdown",
      "metadata": {
        "id": "1iNJ6TgTf-CM"
      },
      "source": [
        "### **3.1 Get Image Directories**"
      ]
    },
    {
      "cell_type": "code",
      "execution_count": 9,
      "metadata": {},
      "outputs": [
        {
          "name": "stderr",
          "output_type": "stream",
          "text": [
            "2022-11-27 21:07:52.408739: I tensorflow/core/platform/cpu_feature_guard.cc:142] This TensorFlow binary is optimized with oneAPI Deep Neural Network Library (oneDNN) to use the following CPU instructions in performance-critical operations:  AVX2 FMA\n",
            "To enable them in other operations, rebuild TensorFlow with the appropriate compiler flags.\n",
            "2022-11-27 21:07:52.409551: I tensorflow/compiler/jit/xla_gpu_device.cc:99] Not creating XLA devices, tf_xla_enable_xla_devices not set\n"
          ]
        }
      ],
      "source": [
        "# Getting the same number of images per folder\n",
        "# Create a dataset generator for each folder\n",
        "anchor = tf.data.Dataset.list_files(ANC_PATH + '/*.jpg').take(300)\n",
        "positive = tf.data.Dataset.list_files(POS_PATH + '/*.jpg').take(300)\n",
        "negative = tf.data.Dataset.list_files(NEG_PATH + '/*.jpg').take(300)\n"
      ]
    },
    {
      "cell_type": "markdown",
      "metadata": {
        "id": "2chnKVEYf-Oq"
      },
      "source": [
        "### **3.2 Preprocessing - Scale and Resize**"
      ]
    },
    {
      "cell_type": "code",
      "execution_count": 10,
      "metadata": {},
      "outputs": [],
      "source": [
        "def pre_process(file_path):\n",
        "    # Read in image from file path\n",
        "    byte_img = tf.io.read_file(file_path)\n",
        "    # Load the image\n",
        "    img = tf.io.decode_jpeg(byte_img)\n",
        "\n",
        "    # Preprocessing steps - resizing the image to be 100x100x3\n",
        "    img = tf.image.resize(img, (100, 100))\n",
        "    # Scale image to be between 0 and 1\n",
        "    img = img / 255.0\n",
        "\n",
        "    # Return image preprocessed\n",
        "    return img"
      ]
    },
    {
      "cell_type": "markdown",
      "metadata": {
        "id": "JTaHPkCmgHBC"
      },
      "source": [
        "### **3.3 Create Labelled Dataset**"
      ]
    },
    {
      "cell_type": "code",
      "execution_count": 11,
      "metadata": {},
      "outputs": [],
      "source": [
        "positives = tf.data.Dataset.zip((anchor, positive, tf.data.Dataset.from_tensor_slices(tf.ones(len(anchor)))))\n",
        "negatives = tf.data.Dataset.zip((anchor, negative, tf.data.Dataset.from_tensor_slices(tf.zeros(len(anchor)))))\n",
        "data = positives.concatenate(negatives)"
      ]
    },
    {
      "cell_type": "code",
      "execution_count": 12,
      "metadata": {},
      "outputs": [
        {
          "data": {
            "text/plain": [
              "<ConcatenateDataset shapes: ((), (), ()), types: (tf.string, tf.string, tf.float32)>"
            ]
          },
          "execution_count": 12,
          "metadata": {},
          "output_type": "execute_result"
        }
      ],
      "source": [
        "data"
      ]
    },
    {
      "cell_type": "code",
      "execution_count": 13,
      "metadata": {},
      "outputs": [
        {
          "data": {
            "text/plain": [
              "(b'/home/gabriel/Documentos/mestrado/am/notebooks/face-recognition-app/data/anchor/fe8ae712-6bed-11ed-886b-073aaa4b2cb1.jpg',\n",
              " b'/home/gabriel/Documentos/mestrado/am/notebooks/face-recognition-app/data/positive/2a82f9d2-6bef-11ed-886b-073aaa4b2cb1.jpg',\n",
              " 1.0)"
            ]
          },
          "execution_count": 13,
          "metadata": {},
          "output_type": "execute_result"
        }
      ],
      "source": [
        "samples = data.as_numpy_iterator()\n",
        "samples.next()"
      ]
    },
    {
      "cell_type": "code",
      "execution_count": 14,
      "metadata": {},
      "outputs": [],
      "source": [
        "example = samples.next()"
      ]
    },
    {
      "cell_type": "markdown",
      "metadata": {
        "id": "0eLUdqwfgHPA"
      },
      "source": [
        "### **3.4 Build Train and Test Partition**"
      ]
    },
    {
      "cell_type": "code",
      "execution_count": 15,
      "metadata": {},
      "outputs": [],
      "source": [
        "def pre_process_twin(input_img, validation_img, label):\n",
        "\treturn (pre_process(input_img), pre_process(validation_img), label)"
      ]
    },
    {
      "cell_type": "code",
      "execution_count": 16,
      "metadata": {},
      "outputs": [
        {
          "data": {
            "text/plain": [
              "(<tf.Tensor: shape=(100, 100, 3), dtype=float32, numpy=\n",
              " array([[[0.25      , 0.25      , 0.25      ],\n",
              "         [0.2509804 , 0.2509804 , 0.2509804 ],\n",
              "         [0.25857842, 0.25857842, 0.25857842],\n",
              "         ...,\n",
              "         [0.25637254, 0.25833333, 0.25735295],\n",
              "         [0.21715686, 0.225     , 0.22107843],\n",
              "         [0.21372549, 0.22156863, 0.21764706]],\n",
              " \n",
              "        [[0.24411765, 0.25      , 0.24705882],\n",
              "         [0.2492647 , 0.2492647 , 0.2492647 ],\n",
              "         [0.2509804 , 0.2509804 , 0.2509804 ],\n",
              "         ...,\n",
              "         [0.25686276, 0.25882354, 0.25784314],\n",
              "         [0.21176471, 0.21960784, 0.21568628],\n",
              "         [0.18995099, 0.19779412, 0.19387256]],\n",
              " \n",
              "        [[0.24117647, 0.24117647, 0.23529412],\n",
              "         [0.24019608, 0.24019608, 0.2357843 ],\n",
              "         [0.24705882, 0.24705882, 0.24705882],\n",
              "         ...,\n",
              "         [0.2629902 , 0.26936275, 0.26617646],\n",
              "         [0.24019608, 0.24803922, 0.24411765],\n",
              "         [0.22279412, 0.23063725, 0.22671568]],\n",
              " \n",
              "        ...,\n",
              " \n",
              "        [[0.21397059, 0.21789216, 0.19730392],\n",
              "         [0.28063726, 0.28455883, 0.264951  ],\n",
              "         [0.3125    , 0.3142157 , 0.30122548],\n",
              "         ...,\n",
              "         [0.38504902, 0.39362746, 0.38186276],\n",
              "         [0.3737745 , 0.3779412 , 0.36813724],\n",
              "         [0.28161764, 0.28357843, 0.2747549 ]],\n",
              " \n",
              "        [[0.22009803, 0.2240196 , 0.20049019],\n",
              "         [0.28063726, 0.28455883, 0.2627451 ],\n",
              "         [0.3125    , 0.31642157, 0.29681373],\n",
              "         ...,\n",
              "         [0.2875    , 0.29828432, 0.29142156],\n",
              "         [0.28480393, 0.29558823, 0.2887255 ],\n",
              "         [0.21715686, 0.22132353, 0.21151961]],\n",
              " \n",
              "        [[0.22377451, 0.22769608, 0.19632353],\n",
              "         [0.29215688, 0.29607844, 0.26666668],\n",
              "         [0.30588236, 0.3127451 , 0.29215688],\n",
              "         ...,\n",
              "         [0.13504902, 0.09289216, 0.12622549],\n",
              "         [0.14313726, 0.10098039, 0.13357843],\n",
              "         [0.1870098 , 0.14338236, 0.16568628]]], dtype=float32)>,\n",
              " <tf.Tensor: shape=(100, 100, 3), dtype=float32, numpy=\n",
              " array([[[0.54338235, 0.5419118 , 0.5362745 ],\n",
              "         [0.5348039 , 0.53333336, 0.5276961 ],\n",
              "         [0.53137255, 0.529902  , 0.51985294],\n",
              "         ...,\n",
              "         [0.45539215, 0.45539215, 0.45539215],\n",
              "         [0.44411764, 0.44411764, 0.44411764],\n",
              "         [0.44705883, 0.44705883, 0.44705883]],\n",
              " \n",
              "        [[0.56911767, 0.5470588 , 0.56102943],\n",
              "         [0.56960785, 0.54901963, 0.5627451 ],\n",
              "         [0.5647059 , 0.5441176 , 0.55784315],\n",
              "         ...,\n",
              "         [0.4512255 , 0.44142157, 0.44534314],\n",
              "         [0.45196077, 0.44215685, 0.44607842],\n",
              "         [0.45294118, 0.44313726, 0.44705883]],\n",
              " \n",
              "        [[0.6272059 , 0.59411764, 0.5919118 ],\n",
              "         [0.6281863 , 0.5980392 , 0.5948529 ],\n",
              "         [0.61715686, 0.5855392 , 0.5877451 ],\n",
              "         ...,\n",
              "         [0.4480392 , 0.43235293, 0.4362745 ],\n",
              "         [0.45171568, 0.4360294 , 0.43995097],\n",
              "         [0.4480392 , 0.43235293, 0.4362745 ]],\n",
              " \n",
              "        ...,\n",
              " \n",
              "        [[0.61151963, 0.6154412 , 0.62328434],\n",
              "         [0.61960787, 0.62352943, 0.6313726 ],\n",
              "         [0.60294116, 0.6068627 , 0.61470586],\n",
              "         ...,\n",
              "         [0.5083333 , 0.46519607, 0.46200982],\n",
              "         [0.30808824, 0.23921569, 0.24411765],\n",
              "         [0.2752451 , 0.20686275, 0.20612745]],\n",
              " \n",
              "        [[0.61151963, 0.61838233, 0.61740196],\n",
              "         [0.6164216 , 0.62328434, 0.6223039 ],\n",
              "         [0.60490197, 0.6095588 , 0.61519605],\n",
              "         ...,\n",
              "         [0.4995098 , 0.4644608 , 0.45808825],\n",
              "         [0.31862745, 0.2637255 , 0.26127452],\n",
              "         [0.28529412, 0.22941177, 0.22352941]],\n",
              " \n",
              "        [[0.6071078 , 0.61495095, 0.6110294 ],\n",
              "         [0.60612744, 0.6139706 , 0.610049  ],\n",
              "         [0.6186274 , 0.62647057, 0.622549  ],\n",
              "         ...,\n",
              "         [0.53431374, 0.5002451 , 0.50490195],\n",
              "         [0.2764706 , 0.23137255, 0.2382353 ],\n",
              "         [0.28137255, 0.23431373, 0.23431373]]], dtype=float32)>,\n",
              " 1.0)"
            ]
          },
          "execution_count": 16,
          "metadata": {},
          "output_type": "execute_result"
        }
      ],
      "source": [
        "pre_process_twin(*example)"
      ]
    },
    {
      "cell_type": "code",
      "execution_count": 17,
      "metadata": {},
      "outputs": [
        {
          "data": {
            "text/plain": [
              "<matplotlib.image.AxesImage at 0x7f318cd86880>"
            ]
          },
          "execution_count": 17,
          "metadata": {},
          "output_type": "execute_result"
        },
        {
          "data": {
            "image/png": "[encoded data removed]",
            "text/plain": [
              "<Figure size 640x480 with 1 Axes>"
            ]
          },
          "metadata": {},
          "output_type": "display_data"
        }
      ],
      "source": [
        "\n",
        "res = pre_process_twin(*example)\n",
        "plt.imshow(res[1])"
      ]
    },
    {
      "cell_type": "code",
      "execution_count": 18,
      "metadata": {},
      "outputs": [],
      "source": [
        "# Build dataloader pipeline\n",
        "data = data.map(pre_process_twin)\n",
        "data = data.cache()\n",
        "data = data.shuffle(buffer_size=10000)"
      ]
    },
    {
      "cell_type": "code",
      "execution_count": 30,
      "metadata": {},
      "outputs": [],
      "source": [
        "# Training partition\n",
        "# Recovering 70% of the data for train\n",
        "train_data = data.take(round(len(data)*.7))\n",
        "# passing data as batches of 16 images\n",
        "train_data = train_data.batch(16)\n",
        "# starts pre-processing the next set of images to avoid bottleneck\n",
        "train_data = train_data.prefetch(8)"
      ]
    },
    {
      "cell_type": "code",
      "execution_count": 31,
      "metadata": {},
      "outputs": [],
      "source": [
        "# Testing partition\n",
        "# skip the first 420 images\n",
        "test_data = data.skip(round(len(data)*.7))\n",
        "test_data = test_data.take(round(len(data)*.3))\n",
        "test_data = test_data.batch(16)\n",
        "test_data = test_data.prefetch(8)"
      ]
    },
    {
      "cell_type": "code",
      "execution_count": 32,
      "metadata": {},
      "outputs": [
        {
          "name": "stderr",
          "output_type": "stream",
          "text": [
            "2022-11-27 21:10:51.372121: I tensorflow/compiler/mlir/mlir_graph_optimization_pass.cc:116] None of the MLIR optimization passes are enabled (registered 2)\n",
            "2022-11-27 21:10:51.394779: I tensorflow/core/platform/profile_utils/cpu_utils.cc:112] CPU Frequency: 2899885000 Hz\n"
          ]
        },
        {
          "data": {
            "text/plain": [
              "16"
            ]
          },
          "execution_count": 32,
          "metadata": {},
          "output_type": "execute_result"
        }
      ],
      "source": [
        "train_samples = train_data.as_numpy_iterator()\n",
        "train_sample = train_samples.next()\n",
        "# We have 16 images inside each example now\n",
        "len(train_sample[0])"
      ]
    },
    {
      "cell_type": "markdown",
      "metadata": {},
      "source": [
        "# Part 4"
      ]
    },
    {
      "cell_type": "markdown",
      "metadata": {
        "id": "mlluvknmgMuP"
      },
      "source": [
        "### **4. Model Engineering**"
      ]
    },
    {
      "cell_type": "markdown",
      "metadata": {},
      "source": [
        "![Siamese Neural Network](./siamese-neural-network.png)"
      ]
    },
    {
      "cell_type": "markdown",
      "metadata": {},
      "source": [
        "### 4.1 Build Embedding Layer"
      ]
    },
    {
      "cell_type": "code",
      "execution_count": 19,
      "metadata": {},
      "outputs": [],
      "source": [
        "def make_embedding(): \n",
        "    # We are going to work with 100x100px, so the numbers will not be exactly the same however it's not a problem.\n",
        "    inp = Input(shape=(100,100,3), name='input_image')\n",
        "    \n",
        "    # First block\n",
        "    c1 = Conv2D(64, (10,10), activation='relu')(inp)\n",
        "    m1 = MaxPooling2D(64, (2,2), padding='same')(c1)\n",
        "    \n",
        "    # Second block\n",
        "    c2 = Conv2D(128, (7,7), activation='relu')(m1)\n",
        "    m2 = MaxPooling2D(64, (2,2), padding='same')(c2)\n",
        "    \n",
        "    # Third block \n",
        "    c3 = Conv2D(128, (4,4), activation='relu')(m2)\n",
        "    m3 = MaxPooling2D(64, (2,2), padding='same')(c3)\n",
        "    \n",
        "    # Final embedding block\n",
        "    c4 = Conv2D(256, (4,4), activation='relu')(m3)\n",
        "    # Flatting a 3-dimension into a one-dimension\n",
        "    f1 = Flatten()(c4)\n",
        "    # Fully connected layer\n",
        "    d1 = Dense(4096, activation='sigmoid')(f1)\n",
        "    \n",
        "    \n",
        "    return Model(inputs=[inp], outputs=[d1], name='embedding')"
      ]
    },
    {
      "cell_type": "code",
      "execution_count": 20,
      "metadata": {},
      "outputs": [
        {
          "name": "stdout",
          "output_type": "stream",
          "text": [
            "Model: \"embedding\"\n",
            "_________________________________________________________________\n",
            "Layer (type)                 Output Shape              Param #   \n",
            "=================================================================\n",
            "input_image (InputLayer)     [(None, 100, 100, 3)]     0         \n",
            "_________________________________________________________________\n",
            "conv2d (Conv2D)              (None, 91, 91, 64)        19264     \n",
            "_________________________________________________________________\n",
            "max_pooling2d (MaxPooling2D) (None, 46, 46, 64)        0         \n",
            "_________________________________________________________________\n",
            "conv2d_1 (Conv2D)            (None, 40, 40, 128)       401536    \n",
            "_________________________________________________________________\n",
            "max_pooling2d_1 (MaxPooling2 (None, 20, 20, 128)       0         \n",
            "_________________________________________________________________\n",
            "conv2d_2 (Conv2D)            (None, 17, 17, 128)       262272    \n",
            "_________________________________________________________________\n",
            "max_pooling2d_2 (MaxPooling2 (None, 9, 9, 128)         0         \n",
            "_________________________________________________________________\n",
            "conv2d_3 (Conv2D)            (None, 6, 6, 256)         524544    \n",
            "_________________________________________________________________\n",
            "flatten (Flatten)            (None, 9216)              0         \n",
            "_________________________________________________________________\n",
            "dense (Dense)                (None, 4096)              37752832  \n",
            "=================================================================\n",
            "Total params: 38,960,448\n",
            "Trainable params: 38,960,448\n",
            "Non-trainable params: 0\n",
            "_________________________________________________________________\n"
          ]
        }
      ],
      "source": [
        "embedding = make_embedding()\n",
        "embedding.summary()"
      ]
    },
    {
      "cell_type": "markdown",
      "metadata": {},
      "source": [
        "### 4.2 Build Distance Layer"
      ]
    },
    {
      "cell_type": "code",
      "execution_count": 21,
      "metadata": {},
      "outputs": [],
      "source": [
        "# Siamese L1 Distance class\n",
        "class L1Dist(Layer):\n",
        "    \n",
        "    # Init method - inheritance\n",
        "    def __init__(self, **kwargs):\n",
        "        super().__init__()\n",
        "       \n",
        "    # Magic happens here - similarity calculation\n",
        "    def call(self, input_embedding, validation_embedding):\n",
        "        return tf.math.abs(input_embedding - validation_embedding)"
      ]
    },
    {
      "cell_type": "code",
      "execution_count": 22,
      "metadata": {},
      "outputs": [
        {
          "data": {
            "text/plain": [
              "<__main__.L1Dist at 0x7f318cd5ff10>"
            ]
          },
          "execution_count": 22,
          "metadata": {},
          "output_type": "execute_result"
        }
      ],
      "source": [
        "l1 = L1Dist()\n",
        "l1"
      ]
    },
    {
      "cell_type": "markdown",
      "metadata": {},
      "source": [
        "### 4.3 Make Siamese Model"
      ]
    },
    {
      "cell_type": "code",
      "execution_count": 23,
      "metadata": {},
      "outputs": [],
      "source": [
        "def make_siamese_model(): \n",
        "    \n",
        "    # Anchor image input in the network\n",
        "    input_image = Input(name='input_img', shape=(100,100,3))\n",
        "    \n",
        "    # Validation image in the network \n",
        "    validation_image = Input(name='validation_img', shape=(100,100,3))\n",
        "    \n",
        "    # Combine siamese distance components\n",
        "    siamese_layer = L1Dist()\n",
        "    siamese_layer._name = 'distance'\n",
        "    distances = siamese_layer(embedding(input_image), embedding(validation_image))\n",
        "    \n",
        "    # Classification layer \n",
        "    classifier = Dense(1, activation='sigmoid')(distances)\n",
        "    \n",
        "    return Model(inputs=[input_image, validation_image], outputs=classifier, name='SiameseNetwork')"
      ]
    },
    {
      "cell_type": "code",
      "execution_count": 24,
      "metadata": {},
      "outputs": [
        {
          "name": "stdout",
          "output_type": "stream",
          "text": [
            "Model: \"SiameseNetwork\"\n",
            "__________________________________________________________________________________________________\n",
            "Layer (type)                    Output Shape         Param #     Connected to                     \n",
            "==================================================================================================\n",
            "input_img (InputLayer)          [(None, 100, 100, 3) 0                                            \n",
            "__________________________________________________________________________________________________\n",
            "validation_img (InputLayer)     [(None, 100, 100, 3) 0                                            \n",
            "__________________________________________________________________________________________________\n",
            "embedding (Functional)          (None, 4096)         38960448    input_img[0][0]                  \n",
            "                                                                 validation_img[0][0]             \n",
            "__________________________________________________________________________________________________\n",
            "distance (L1Dist)               (None, 4096)         0           embedding[0][0]                  \n",
            "                                                                 embedding[1][0]                  \n",
            "__________________________________________________________________________________________________\n",
            "dense_1 (Dense)                 (None, 1)            4097        distance[0][0]                   \n",
            "==================================================================================================\n",
            "Total params: 38,964,545\n",
            "Trainable params: 38,964,545\n",
            "Non-trainable params: 0\n",
            "__________________________________________________________________________________________________\n"
          ]
        }
      ],
      "source": [
        "siamese_model = make_siamese_model()\n",
        "siamese_model.summary()"
      ]
    },
    {
      "cell_type": "markdown",
      "metadata": {},
      "source": [
        "## 5. Training"
      ]
    },
    {
      "cell_type": "markdown",
      "metadata": {},
      "source": [
        "### 5.1 Setup Loss and Optimizer"
      ]
    },
    {
      "cell_type": "code",
      "execution_count": 30,
      "metadata": {},
      "outputs": [],
      "source": [
        "binary_cross_loss = tf.losses.BinaryCrossentropy()"
      ]
    },
    {
      "cell_type": "code",
      "execution_count": 31,
      "metadata": {},
      "outputs": [],
      "source": [
        "opt = tf.keras.optimizers.Adam(1e-4) # 0.0001"
      ]
    },
    {
      "cell_type": "markdown",
      "metadata": {},
      "source": [
        "### 5.2 Estabilsh Checkpoints"
      ]
    },
    {
      "cell_type": "code",
      "execution_count": 32,
      "metadata": {},
      "outputs": [
        {
          "name": "stdout",
          "output_type": "stream",
          "text": [
            "Creating checkpoint directory\n"
          ]
        }
      ],
      "source": [
        "#Criando diretórios\n",
        "checkpoint_dir = os.path.join(APP_PATH , 'training_checkpoints')\n",
        "if(not os.path.exists(checkpoint_dir)):\n",
        "    print('Creating checkpoint directory')\n",
        "    os.makedirs(checkpoint_dir)\n",
        "\n",
        "checkpoint_prefix = os.path.join(checkpoint_dir, 'ckpt')\n",
        "checkpoint = tf.train.Checkpoint(opt=opt, siamese_model=siamese_model)\n",
        "# To reload from the checkpoint you can use model.load('path_to_checkpoint'). This will load the pre trained weights into the existing model"
      ]
    },
    {
      "cell_type": "markdown",
      "metadata": {},
      "source": [
        "### 5.3 Build Train Step Function"
      ]
    },
    {
      "cell_type": "markdown",
      "metadata": {},
      "source": [
        "The basic flow for training on one batch is as follow:\n",
        "1. Make a prediction\n",
        "2. Calculate loss\n",
        "3. Derive gradients\n",
        "4. Calculate new weights and apply"
      ]
    },
    {
      "cell_type": "code",
      "execution_count": 33,
      "metadata": {},
      "outputs": [],
      "source": [
        "# tf.function compiles a function into a callable TensorFlow graph\n",
        "@tf.function\n",
        "def train_step(batch):\n",
        "    \n",
        "    # Record all of our operations \n",
        "    with tf.GradientTape() as tape:     \n",
        "        # Get anchor and positive/negative image\n",
        "        X = batch[:2]\n",
        "        # Get label\n",
        "        y = batch[2]\n",
        "        \n",
        "        # Forward pass\n",
        "        # Need to set training to True because certain layers only activate when is training\n",
        "        yhat = siamese_model(X, training=True)\n",
        "        # Calculate loss\n",
        "        loss = binary_cross_loss(y, yhat)\n",
        "    print(loss)\n",
        "        \n",
        "    # Calculate gradients\n",
        "    grad = tape.gradient(loss, siamese_model.trainable_variables)\n",
        "    \n",
        "    # Calculate updated weights and apply to siamese model\n",
        "    opt.apply_gradients(zip(grad, siamese_model.trainable_variables))\n",
        "        \n",
        "    # Return loss\n",
        "    return loss"
      ]
    },
    {
      "cell_type": "markdown",
      "metadata": {},
      "source": [
        "### 5.4 Build Training Loop"
      ]
    },
    {
      "cell_type": "code",
      "execution_count": 25,
      "metadata": {},
      "outputs": [],
      "source": [
        "\n",
        "# Import metric calculations\n",
        "from tensorflow.keras.metrics import Precision, Recall"
      ]
    },
    {
      "cell_type": "code",
      "execution_count": 35,
      "metadata": {},
      "outputs": [],
      "source": [
        "# While the train_step function was focused on training for one batch, the loop here will be used to iterate over every batch in the dataset.\n",
        "\n",
        "def train(data, EPOCHS):\n",
        "    # Loop through epochs\n",
        "    for epoch in range(1, EPOCHS+1):\n",
        "        print('\\n Epoch {}/{}'.format(epoch, EPOCHS))\n",
        "        progbar = tf.keras.utils.Progbar(len(data))\n",
        "        \n",
        "        # Creating a metric object \n",
        "        r = Recall()\n",
        "        p = Precision()\n",
        "        \n",
        "        # Loop through each batch\n",
        "        for idx, batch in enumerate(data):\n",
        "            # Run train step here\n",
        "            loss = train_step(batch)\n",
        "            yhat = siamese_model.predict(batch[:2])\n",
        "            r.update_state(batch[2], yhat)\n",
        "            p.update_state(batch[2], yhat)\n",
        "            progbar.update(idx+1)\n",
        "        print(loss.numpy(), r.result().numpy(), p.result().numpy())\n",
        "        \n",
        "        # Save checkpoints\n",
        "        if epoch % 10 == 0: \n",
        "            checkpoint.save(file_prefix=checkpoint_prefix)\n",
        "\n",
        "    date = str(datetime.now())[:19]\n",
        "    # Save weights\n",
        "    siamese_model.save('siamese_model_' + date + '.h5')"
      ]
    },
    {
      "cell_type": "markdown",
      "metadata": {},
      "source": [
        "### 5.5 Train the Model"
      ]
    },
    {
      "cell_type": "code",
      "execution_count": 27,
      "metadata": {},
      "outputs": [],
      "source": [
        "EPOCHS = 50\n",
        "ALREADY_TRAINED = True"
      ]
    },
    {
      "cell_type": "code",
      "execution_count": 37,
      "metadata": {},
      "outputs": [
        {
          "name": "stdout",
          "output_type": "stream",
          "text": [
            "\n",
            " Epoch 1/50\n",
            "Tensor(\"binary_crossentropy/weighted_loss/value:0\", shape=(), dtype=float32)\n",
            "Tensor(\"binary_crossentropy/weighted_loss/value:0\", shape=(), dtype=float32)\n",
            "26/27 [===========================>..] - ETA: 14sTensor(\"binary_crossentropy/weighted_loss/value:0\", shape=(), dtype=float32)\n",
            "27/27 [==============================] - 371s 14s/step\n",
            "0.63764304 0.72596157 0.76649743\n",
            "\n",
            " Epoch 2/50\n",
            "27/27 [==============================] - 400s 15s/step\n",
            "0.18224481 0.93838865 0.94736844\n",
            "\n",
            " Epoch 3/50\n",
            "27/27 [==============================] - 412s 15s/step\n",
            "0.019018926 0.98067635 0.99509805\n",
            "\n",
            " Epoch 4/50\n",
            "27/27 [==============================] - 347s 13s/step\n",
            "0.014329029 0.98571426 0.9951923\n",
            "\n",
            " Epoch 5/50\n",
            "27/27 [==============================] - 348s 13s/step\n",
            "0.036260057 0.9951923 1.0\n",
            "\n",
            " Epoch 6/50\n",
            "27/27 [==============================] - 378s 14s/step\n",
            "0.06935164 0.9953917 1.0\n",
            "\n",
            " Epoch 7/50\n",
            "27/27 [==============================] - 355s 13s/step\n",
            "3.1055337e-05 0.99509805 1.0\n",
            "\n",
            " Epoch 8/50\n",
            "27/27 [==============================] - 398s 15s/step\n",
            "1.968469e-05 0.9951456 1.0\n",
            "\n",
            " Epoch 9/50\n",
            "27/27 [==============================] - 512s 19s/step\n",
            "0.000713245 1.0 1.0\n",
            "\n",
            " Epoch 10/50\n",
            "27/27 [==============================] - 433s 16s/step\n",
            "0.002265658 1.0 1.0\n",
            "\n",
            " Epoch 11/50\n",
            "27/27 [==============================] - 409s 15s/step\n",
            "0.00700171 1.0 1.0\n",
            "\n",
            " Epoch 12/50\n",
            "27/27 [==============================] - 413s 15s/step\n",
            "0.07260625 1.0 1.0\n",
            "\n",
            " Epoch 13/50\n",
            "27/27 [==============================] - 446s 17s/step\n",
            "0.0068851965 0.9905213 1.0\n",
            "\n",
            " Epoch 14/50\n",
            "27/27 [==============================] - 437s 16s/step\n",
            "8.716468e-05 1.0 1.0\n",
            "\n",
            " Epoch 15/50\n",
            "27/27 [==============================] - 340s 13s/step\n",
            "3.13083e-05 1.0 1.0\n",
            "\n",
            " Epoch 16/50\n",
            "27/27 [==============================] - 338s 13s/step\n",
            "0.012423333 0.99033815 0.97619045\n",
            "\n",
            " Epoch 17/50\n",
            "27/27 [==============================] - 454s 17s/step\n",
            "0.0014469157 0.9953052 1.0\n",
            "\n",
            " Epoch 18/50\n",
            "27/27 [==============================] - 430s 16s/step\n",
            "0.07831699 1.0 1.0\n",
            "\n",
            " Epoch 19/50\n",
            "27/27 [==============================] - 454s 17s/step\n",
            "0.00022729795 1.0 1.0\n",
            "\n",
            " Epoch 20/50\n",
            "27/27 [==============================] - 436s 16s/step\n",
            "0.024639778 1.0 1.0\n",
            "\n",
            " Epoch 21/50\n",
            "27/27 [==============================] - 419s 16s/step\n",
            "0.004631469 1.0 1.0\n",
            "\n",
            " Epoch 22/50\n",
            "27/27 [==============================] - 378s 14s/step\n",
            "8.881247e-06 1.0 1.0\n",
            "\n",
            " Epoch 23/50\n",
            "27/27 [==============================] - 359s 13s/step\n",
            "0.0008964931 1.0 1.0\n",
            "\n",
            " Epoch 24/50\n",
            "27/27 [==============================] - 353s 13s/step\n",
            "0.0011874218 1.0 1.0\n",
            "\n",
            " Epoch 25/50\n",
            "27/27 [==============================] - 367s 14s/step\n",
            "5.9432714e-05 1.0 1.0\n",
            "\n",
            " Epoch 26/50\n",
            "27/27 [==============================] - 355s 13s/step\n",
            "0.00049613183 1.0 1.0\n",
            "\n",
            " Epoch 27/50\n",
            "27/27 [==============================] - 359s 13s/step\n",
            "0.0004574864 1.0 1.0\n",
            "\n",
            " Epoch 28/50\n",
            "27/27 [==============================] - 368s 14s/step\n",
            "4.261766e-06 1.0 1.0\n",
            "\n",
            " Epoch 29/50\n",
            "27/27 [==============================] - 375s 14s/step\n",
            "5.576341e-05 1.0 1.0\n",
            "\n",
            " Epoch 30/50\n",
            "27/27 [==============================] - 355s 13s/step\n",
            "2.652419e-06 1.0 1.0\n",
            "\n",
            " Epoch 31/50\n",
            "27/27 [==============================] - 358s 13s/step\n",
            "3.597277e-05 1.0 1.0\n",
            "\n",
            " Epoch 32/50\n",
            "27/27 [==============================] - 349s 13s/step\n",
            "0.00026075324 1.0 1.0\n",
            "\n",
            " Epoch 33/50\n",
            "27/27 [==============================] - 370s 14s/step\n",
            "0.0 1.0 1.0\n",
            "\n",
            " Epoch 34/50\n",
            "27/27 [==============================] - 365s 13s/step\n",
            "0.00023739549 1.0 1.0\n",
            "\n",
            " Epoch 35/50\n",
            "27/27 [==============================] - 362s 13s/step\n",
            "9.258245e-05 1.0 1.0\n",
            "\n",
            " Epoch 36/50\n",
            "27/27 [==============================] - 362s 13s/step\n",
            "0.000492279 1.0 1.0\n",
            "\n",
            " Epoch 37/50\n",
            "27/27 [==============================] - 368s 14s/step\n",
            "8.493669e-07 1.0 1.0\n",
            "\n",
            " Epoch 38/50\n",
            "27/27 [==============================] - 358s 13s/step\n",
            "5.111149e-06 1.0 1.0\n",
            "\n",
            " Epoch 39/50\n",
            "27/27 [==============================] - 351s 13s/step\n",
            "1.5169625e-05 1.0 1.0\n",
            "\n",
            " Epoch 40/50\n",
            "27/27 [==============================] - 372s 14s/step\n",
            "6.1094823e-07 1.0 1.0\n",
            "\n",
            " Epoch 41/50\n",
            "27/27 [==============================] - 379s 14s/step\n",
            "8.0466367e-07 1.0 1.0\n",
            "\n",
            " Epoch 42/50\n",
            "27/27 [==============================] - 363s 13s/step\n",
            "8.776923e-06 1.0 1.0\n",
            "\n",
            " Epoch 43/50\n",
            "27/27 [==============================] - 388s 14s/step\n",
            "6.0946336e-06 1.0 1.0\n",
            "\n",
            " Epoch 44/50\n",
            "27/27 [==============================] - 375s 14s/step\n",
            "4.58235e-05 1.0 1.0\n",
            "\n",
            " Epoch 45/50\n",
            "27/27 [==============================] - 353s 13s/step\n",
            "0.00023000057 1.0 1.0\n",
            "\n",
            " Epoch 46/50\n",
            "27/27 [==============================] - 359s 13s/step\n",
            "4.2766696e-06 1.0 1.0\n",
            "\n",
            " Epoch 47/50\n",
            "27/27 [==============================] - 362s 13s/step\n",
            "3.084555e-06 1.0 1.0\n",
            "\n",
            " Epoch 48/50\n",
            "27/27 [==============================] - 356s 13s/step\n",
            "5.2154104e-07 1.0 1.0\n",
            "\n",
            " Epoch 49/50\n",
            "27/27 [==============================] - 371s 14s/step\n",
            "3.7330195e-05 1.0 1.0\n",
            "\n",
            " Epoch 50/50\n",
            "27/27 [==============================] - 352s 13s/step\n",
            "9.238729e-07 1.0 1.0\n"
          ]
        }
      ],
      "source": [
        "if not ALREADY_TRAINED: \n",
        "    train(train_data, EPOCHS)"
      ]
    },
    {
      "cell_type": "markdown",
      "metadata": {},
      "source": [
        "# Part 6"
      ]
    },
    {
      "cell_type": "markdown",
      "metadata": {},
      "source": [
        "## 6. Evaluate Model"
      ]
    },
    {
      "cell_type": "markdown",
      "metadata": {},
      "source": [
        "### 6.1 Import Metrics"
      ]
    },
    {
      "cell_type": "code",
      "execution_count": 33,
      "metadata": {},
      "outputs": [],
      "source": [
        "# Import metric calculations\n",
        "from tensorflow.keras.metrics import Precision, Recall"
      ]
    },
    {
      "cell_type": "markdown",
      "metadata": {},
      "source": [
        "### 6.2 Make Predictions"
      ]
    },
    {
      "cell_type": "code",
      "execution_count": 34,
      "metadata": {},
      "outputs": [],
      "source": [
        "# Get a batch of test data\n",
        "test_input, test_val, y_true = test_data.as_numpy_iterator().next()"
      ]
    },
    {
      "cell_type": "code",
      "execution_count": 35,
      "metadata": {},
      "outputs": [],
      "source": [
        "y_hat = siamese_model.predict([test_input, test_val])"
      ]
    },
    {
      "cell_type": "code",
      "execution_count": 36,
      "metadata": {},
      "outputs": [
        {
          "data": {
            "text/plain": [
              "[1, 0, 0, 1, 0, 1, 1, 0, 0, 1, 0, 1, 1, 1, 0, 0]"
            ]
          },
          "execution_count": 36,
          "metadata": {},
          "output_type": "execute_result"
        }
      ],
      "source": [
        "# Post processing the results \n",
        "[1 if prediction > 0.5 else 0 for prediction in y_hat ]"
      ]
    },
    {
      "cell_type": "code",
      "execution_count": 37,
      "metadata": {},
      "outputs": [
        {
          "data": {
            "text/plain": [
              "array([0., 1., 1., 1., 0., 1., 0., 0., 1., 1., 0., 0., 1., 0., 1., 0.],\n",
              "      dtype=float32)"
            ]
          },
          "execution_count": 37,
          "metadata": {},
          "output_type": "execute_result"
        }
      ],
      "source": [
        "y_true"
      ]
    },
    {
      "cell_type": "markdown",
      "metadata": {},
      "source": [
        "### 6.3 Calculate Metrics"
      ]
    },
    {
      "cell_type": "markdown",
      "metadata": {},
      "source": [
        "#### 6.3.1 Calculating for one batch"
      ]
    },
    {
      "cell_type": "code",
      "execution_count": 38,
      "metadata": {},
      "outputs": [
        {
          "data": {
            "text/plain": [
              "0.5"
            ]
          },
          "execution_count": 38,
          "metadata": {},
          "output_type": "execute_result"
        }
      ],
      "source": [
        "# Creating a metric object \n",
        "# Recall shows what proportion of actual positives were identified correctly.\n",
        "m = Recall()\n",
        "\n",
        "# Calculating the recall value \n",
        "m.update_state(y_true, y_hat)\n",
        "\n",
        "# Return Recall Result\n",
        "m.result().numpy()"
      ]
    },
    {
      "cell_type": "code",
      "execution_count": 39,
      "metadata": {},
      "outputs": [
        {
          "data": {
            "text/plain": [
              "0.5"
            ]
          },
          "execution_count": 39,
          "metadata": {},
          "output_type": "execute_result"
        }
      ],
      "source": [
        "# Creating a metric object \n",
        "# Precision demonstrates what proportion of positive identifications were actually correct.\n",
        "m = Precision()\n",
        "\n",
        "# Calculating the recall value \n",
        "m.update_state(y_true, y_hat)\n",
        "\n",
        "# Return Recall Result\n",
        "m.result().numpy()"
      ]
    },
    {
      "cell_type": "markdown",
      "metadata": {},
      "source": [
        "#### Calculating for all batchs"
      ]
    },
    {
      "cell_type": "code",
      "execution_count": 40,
      "metadata": {},
      "outputs": [
        {
          "name": "stdout",
          "output_type": "stream",
          "text": [
            "0.3152174 0.51785713\n"
          ]
        }
      ],
      "source": [
        "r = Recall()\n",
        "p = Precision()\n",
        "\n",
        "for test_input, test_val, y_true in test_data.as_numpy_iterator():\n",
        "    yhat = siamese_model.predict([test_input, test_val])\n",
        "    r.update_state(y_true, yhat)\n",
        "    p.update_state(y_true,yhat) \n",
        "\n",
        "print(r.result().numpy(), p.result().numpy())"
      ]
    },
    {
      "cell_type": "markdown",
      "metadata": {},
      "source": [
        "### 6.4 Viz Results"
      ]
    },
    {
      "cell_type": "code",
      "execution_count": 46,
      "metadata": {},
      "outputs": [
        {
          "data": {
            "image/png": "[encoded data removed]",
            "text/plain": [
              "<Figure size 1000x800 with 2 Axes>"
            ]
          },
          "metadata": {},
          "output_type": "display_data"
        }
      ],
      "source": [
        "# Set plot size \n",
        "plt.figure(figsize=(10,8))\n",
        "\n",
        "# Set first subplot\n",
        "plt.subplot(1,2,1)\n",
        "plt.imshow(test_input[0])\n",
        "\n",
        "# Set second subplot\n",
        "plt.subplot(1,2,2)\n",
        "plt.imshow(test_val[0])\n",
        "\n",
        "# Renders cleanly\n",
        "plt.show()"
      ]
    },
    {
      "cell_type": "code",
      "execution_count": 47,
      "metadata": {},
      "outputs": [
        {
          "data": {
            "image/png": "[encoded data removed]",
            "text/plain": [
              "<Figure size 1000x800 with 2 Axes>"
            ]
          },
          "metadata": {},
          "output_type": "display_data"
        }
      ],
      "source": [
        "# Set plot size \n",
        "plt.figure(figsize=(10,8))\n",
        "\n",
        "# Set first subplot\n",
        "plt.subplot(1,2,1)\n",
        "plt.imshow(test_input[1])\n",
        "\n",
        "# Set second subplot\n",
        "plt.subplot(1,2,2)\n",
        "plt.imshow(test_val[1])\n",
        "\n",
        "# Renders cleanly\n",
        "plt.show()"
      ]
    },
    {
      "cell_type": "markdown",
      "metadata": {},
      "source": [
        "# Part 7"
      ]
    },
    {
      "cell_type": "markdown",
      "metadata": {},
      "source": [
        "## 7. Save Model"
      ]
    },
    {
      "cell_type": "code",
      "execution_count": 63,
      "metadata": {},
      "outputs": [],
      "source": [
        "\n",
        "date = str(datetime.now())[:19]\n",
        "# Save weights\n",
        "siamese_model.save('siamese_model_' + date + '.h5')"
      ]
    },
    {
      "cell_type": "code",
      "execution_count": 42,
      "metadata": {},
      "outputs": [],
      "source": [
        "# Reload model \n",
        "siamese_model = tf.keras.models.load_model('siamese_model_300_50.h5', compile=False, \n",
        "                                   custom_objects={'L1Dist':L1Dist, 'BinaryCrossentropy':tf.losses.BinaryCrossentropy})"
      ]
    },
    {
      "cell_type": "code",
      "execution_count": 43,
      "metadata": {},
      "outputs": [
        {
          "data": {
            "text/plain": [
              "array([[6.7008874e-09],\n",
              "       [9.9981833e-01],\n",
              "       [9.6452594e-01],\n",
              "       [9.9999952e-01]], dtype=float32)"
            ]
          },
          "execution_count": 43,
          "metadata": {},
          "output_type": "execute_result"
        }
      ],
      "source": [
        "# Make predictions with reloaded model\n",
        "siamese_model.predict([test_input, test_val])"
      ]
    },
    {
      "cell_type": "code",
      "execution_count": 44,
      "metadata": {},
      "outputs": [
        {
          "name": "stdout",
          "output_type": "stream",
          "text": [
            "Model: \"SiameseNetwork\"\n",
            "__________________________________________________________________________________________________\n",
            "Layer (type)                    Output Shape         Param #     Connected to                     \n",
            "==================================================================================================\n",
            "input_img (InputLayer)          [(None, 100, 100, 3) 0                                            \n",
            "__________________________________________________________________________________________________\n",
            "validation_img (InputLayer)     [(None, 100, 100, 3) 0                                            \n",
            "__________________________________________________________________________________________________\n",
            "embedding (Functional)          (None, 4096)         38960448    input_img[0][0]                  \n",
            "                                                                 validation_img[0][0]             \n",
            "__________________________________________________________________________________________________\n",
            "l1_dist_3 (L1Dist)              (None, 4096)         0           embedding[0][0]                  \n",
            "                                                                 embedding[1][0]                  \n",
            "__________________________________________________________________________________________________\n",
            "dense_1 (Dense)                 (None, 1)            4097        l1_dist_3[0][0]                  \n",
            "==================================================================================================\n",
            "Total params: 38,964,545\n",
            "Trainable params: 38,964,545\n",
            "Non-trainable params: 0\n",
            "__________________________________________________________________________________________________\n"
          ]
        }
      ],
      "source": [
        "# View model summary\n",
        "siamese_model.summary()"
      ]
    },
    {
      "cell_type": "markdown",
      "metadata": {},
      "source": [
        "# Part 8"
      ]
    },
    {
      "cell_type": "markdown",
      "metadata": {},
      "source": [
        "## 8. Real Time Test"
      ]
    },
    {
      "cell_type": "markdown",
      "metadata": {},
      "source": [
        "### 8.1 Verification Function"
      ]
    },
    {
      "cell_type": "markdown",
      "metadata": {},
      "source": [
        "![Verification Explanation](verification-explanation.png)"
      ]
    },
    {
      "cell_type": "markdown",
      "metadata": {},
      "source": [
        "Next steps:\n",
        "1. create directory application_data\n",
        "2. create directory application_data/verification_images\n",
        "3. create directory application_data/input_image\n",
        "4. Go to data, then positive samples, then and grap some images (50) and copy them to the verification_images"
      ]
    },
    {
      "cell_type": "code",
      "execution_count": 45,
      "metadata": {},
      "outputs": [
        {
          "data": {
            "text/plain": [
              "['47de7408-6bef-11ed-886b-073aaa4b2cb1.jpg',\n",
              " 'e9a4fe94-6bee-11ed-886b-073aaa4b2cb1.jpg',\n",
              " '44422b2d-6bef-11ed-886b-073aaa4b2cb1.jpg',\n",
              " '0806654f-6bef-11ed-886b-073aaa4b2cb1.jpg',\n",
              " 'f8e2a62b-6bee-11ed-886b-073aaa4b2cb1.jpg',\n",
              " '8eafe1ca-6bee-11ed-886b-073aaa4b2cb1.jpg',\n",
              " 'e393aa9f-6bee-11ed-886b-073aaa4b2cb1.jpg',\n",
              " '6559047c-6bef-11ed-886b-073aaa4b2cb1.jpg',\n",
              " 'ecf7c458-6bee-11ed-886b-073aaa4b2cb1.jpg',\n",
              " '61d7a79c-6bef-11ed-886b-073aaa4b2cb1.jpg',\n",
              " 'e0374b3a-6bee-11ed-886b-073aaa4b2cb1.jpg',\n",
              " 'ebd9deb3-6bee-11ed-886b-073aaa4b2cb1.jpg',\n",
              " '0593c042-6bef-11ed-886b-073aaa4b2cb1.jpg',\n",
              " '42e69ab2-6bef-11ed-886b-073aaa4b2cb1.jpg',\n",
              " 'd10aded3-6bee-11ed-886b-073aaa4b2cb1.jpg',\n",
              " '0209dd6a-6bef-11ed-886b-073aaa4b2cb1.jpg',\n",
              " '0209dd6d-6bef-11ed-886b-073aaa4b2cb1.jpg',\n",
              " 'd23265e3-6bee-11ed-886b-073aaa4b2cb1.jpg',\n",
              " 'fe4494ce-6bee-11ed-886b-073aaa4b2cb1.jpg',\n",
              " '8d44770f-6bee-11ed-886b-073aaa4b2cb1.jpg',\n",
              " '0806654d-6bef-11ed-886b-073aaa4b2cb1.jpg',\n",
              " '4ceab0ac-6bef-11ed-886b-073aaa4b2cb1.jpg',\n",
              " '247cfc62-6bef-11ed-886b-073aaa4b2cb1.jpg',\n",
              " '236251fc-6bef-11ed-886b-073aaa4b2cb1.jpg',\n",
              " '18965cbe-6bef-11ed-886b-073aaa4b2cb1.jpg',\n",
              " '8eafe1c8-6bee-11ed-886b-073aaa4b2cb1.jpg',\n",
              " '5f7f9ea9-6bef-11ed-886b-073aaa4b2cb1.jpg',\n",
              " '1f475660-6bef-11ed-886b-073aaa4b2cb1.jpg',\n",
              " '00a7e23d-6bef-11ed-886b-073aaa4b2cb1.jpg',\n",
              " '65590480-6bef-11ed-886b-073aaa4b2cb1.jpg',\n",
              " '466e2c0f-6bef-11ed-886b-073aaa4b2cb1.jpg',\n",
              " '1b185709-6bef-11ed-886b-073aaa4b2cb1.jpg',\n",
              " '5d2400f5-6bef-11ed-886b-073aaa4b2cb1.jpg',\n",
              " 'e86738c5-6bee-11ed-886b-073aaa4b2cb1.jpg',\n",
              " '2a82f9d2-6bef-11ed-886b-073aaa4b2cb1.jpg',\n",
              " 'e4aed340-6bee-11ed-886b-073aaa4b2cb1.jpg',\n",
              " '4ceab0ab-6bef-11ed-886b-073aaa4b2cb1.jpg',\n",
              " '6994a8b4-6bee-11ed-886b-073aaa4b2cb1.jpg',\n",
              " '41e78c47-6bef-11ed-886b-073aaa4b2cb1.jpg',\n",
              " '6559047f-6bef-11ed-886b-073aaa4b2cb1.jpg',\n",
              " '247cfc58-6bef-11ed-886b-073aaa4b2cb1.jpg',\n",
              " '45a95dbe-6bef-11ed-886b-073aaa4b2cb1.jpg',\n",
              " 'ff88247b-6bee-11ed-886b-073aaa4b2cb1.jpg',\n",
              " 'e6333d6f-6bee-11ed-886b-073aaa4b2cb1.jpg',\n",
              " '939e6af6-6bee-11ed-886b-073aaa4b2cb1.jpg',\n",
              " '60c85b88-6bef-11ed-886b-073aaa4b2cb1.jpg',\n",
              " 'fd35f34e-6bee-11ed-886b-073aaa4b2cb1.jpg',\n",
              " '00a7e23a-6bef-11ed-886b-073aaa4b2cb1.jpg',\n",
              " '1f47565b-6bef-11ed-886b-073aaa4b2cb1.jpg',\n",
              " 'e393aaa3-6bee-11ed-886b-073aaa4b2cb1.jpg']"
            ]
          },
          "execution_count": 45,
          "metadata": {},
          "output_type": "execute_result"
        }
      ],
      "source": [
        "os.listdir(os.path.join('application_data', 'verification_images'))"
      ]
    },
    {
      "cell_type": "code",
      "execution_count": 46,
      "metadata": {},
      "outputs": [],
      "source": [
        "def verify(model, detection_threshold, verification_threshold):\n",
        "    # Build results array\n",
        "    results = []\n",
        "    for image in os.listdir(os.path.join('application_data', 'verification_images')):\n",
        "        input_img = pre_process(os.path.join('application_data', 'input_image', 'input_image.jpg'))\n",
        "        validation_img = pre_process(os.path.join('application_data', 'verification_images', image))\n",
        "        \n",
        "        # Make Predictions \n",
        "        result = model.predict(list(np.expand_dims([input_img, validation_img], axis=1)))\n",
        "        results.append(result)\n",
        "    \n",
        "    # Detection Threshold: Metric above which a prediciton is considered positive \n",
        "    detection = np.sum(np.array(results) > detection_threshold)\n",
        "    \n",
        "    # Verification Threshold: Proportion of positive predictions / total positive samples \n",
        "    verification = detection / len(os.listdir(os.path.join('application_data', 'verification_images'))) \n",
        "    verified = verification > verification_threshold\n",
        "    \n",
        "    return results, verified"
      ]
    },
    {
      "cell_type": "markdown",
      "metadata": {},
      "source": [
        "### 8.2 OpenCV Real Time Verification"
      ]
    },
    {
      "cell_type": "code",
      "execution_count": 55,
      "metadata": {},
      "outputs": [],
      "source": [
        "# Increase thresholds to avoid false positives\n",
        "# Detection Threshold: Metric above which a prediciton is considered positive \n",
        "# Verification Threshold: Proportion of positive predictions / total positive samples \n",
        "DETECTION_THRESHOLD = 0.8\n",
        "VERIFICATION_THRESHOLD = 0.7\n"
      ]
    },
    {
      "cell_type": "code",
      "execution_count": 54,
      "metadata": {},
      "outputs": [
        {
          "name": "stdout",
          "output_type": "stream",
          "text": [
            "False\n",
            "False\n",
            "True\n"
          ]
        }
      ],
      "source": [
        "cap = cv2.VideoCapture(WEBCAM_DEVICE_NUMBER)\n",
        "while cap.isOpened():\n",
        "    ret, frame = cap.read()\n",
        "    frame = frame[120:120+250,200:200+250, :]\n",
        "    \n",
        "    cv2.imshow('Verification', frame)\n",
        "    \n",
        "    # Verification trigger\n",
        "    if cv2.waitKey(10) & 0xFF == ord('v'):\n",
        "        # Save input image to application_data/input_image folder \n",
        "        cv2.imwrite(os.path.join('application_data', 'input_image', 'input_image.jpg'), frame)\n",
        "        \n",
        "        # Run verification\n",
        "        results, verified = verify(siamese_model, DETECTION_THRESHOLD, VERIFICATION_THRESHOLD)\n",
        "        print(verified)\n",
        "    \n",
        "    if cv2.waitKey(10) & 0xFF == ord('q'):\n",
        "        break\n",
        "cap.release()\n",
        "cv2.destroyAllWindows()"
      ]
    },
    {
      "cell_type": "code",
      "execution_count": 56,
      "metadata": {},
      "outputs": [
        {
          "data": {
            "text/plain": [
              "[array([[0.9977186]], dtype=float32),\n",
              " array([[0.979723]], dtype=float32),\n",
              " array([[0.9998375]], dtype=float32),\n",
              " array([[0.46436992]], dtype=float32),\n",
              " array([[1.]], dtype=float32),\n",
              " array([[0.99287206]], dtype=float32),\n",
              " array([[1.]], dtype=float32),\n",
              " array([[0.99571085]], dtype=float32),\n",
              " array([[0.79686785]], dtype=float32),\n",
              " array([[0.98596525]], dtype=float32),\n",
              " array([[1.]], dtype=float32),\n",
              " array([[0.9776808]], dtype=float32),\n",
              " array([[1.]], dtype=float32),\n",
              " array([[0.99974227]], dtype=float32),\n",
              " array([[0.9997016]], dtype=float32),\n",
              " array([[1.]], dtype=float32),\n",
              " array([[1.]], dtype=float32),\n",
              " array([[0.9986577]], dtype=float32),\n",
              " array([[1.]], dtype=float32),\n",
              " array([[0.99987364]], dtype=float32),\n",
              " array([[0.08966964]], dtype=float32),\n",
              " array([[0.9921473]], dtype=float32),\n",
              " array([[1.]], dtype=float32),\n",
              " array([[1.]], dtype=float32),\n",
              " array([[0.99999917]], dtype=float32),\n",
              " array([[0.89544797]], dtype=float32),\n",
              " array([[0.98206806]], dtype=float32),\n",
              " array([[0.9807397]], dtype=float32),\n",
              " array([[1.]], dtype=float32),\n",
              " array([[0.999806]], dtype=float32),\n",
              " array([[0.99997413]], dtype=float32),\n",
              " array([[0.99941003]], dtype=float32),\n",
              " array([[0.9998622]], dtype=float32),\n",
              " array([[0.9994863]], dtype=float32),\n",
              " array([[1.]], dtype=float32),\n",
              " array([[0.99905384]], dtype=float32),\n",
              " array([[0.9910675]], dtype=float32),\n",
              " array([[0.7057917]], dtype=float32),\n",
              " array([[0.99967265]], dtype=float32),\n",
              " array([[0.99606764]], dtype=float32),\n",
              " array([[1.]], dtype=float32),\n",
              " array([[0.9990215]], dtype=float32),\n",
              " array([[1.]], dtype=float32),\n",
              " array([[1.]], dtype=float32),\n",
              " array([[0.99901974]], dtype=float32),\n",
              " array([[0.9454856]], dtype=float32),\n",
              " array([[1.]], dtype=float32),\n",
              " array([[1.]], dtype=float32),\n",
              " array([[0.99394107]], dtype=float32),\n",
              " array([[0.99999964]], dtype=float32)]"
            ]
          },
          "execution_count": 56,
          "metadata": {},
          "output_type": "execute_result"
        }
      ],
      "source": [
        "results"
      ]
    },
    {
      "cell_type": "code",
      "execution_count": 58,
      "metadata": {},
      "outputs": [
        {
          "data": {
            "text/plain": [
              "0.8"
            ]
          },
          "execution_count": 58,
          "metadata": {},
          "output_type": "execute_result"
        }
      ],
      "source": [
        "40 / 50"
      ]
    },
    {
      "cell_type": "code",
      "execution_count": 59,
      "metadata": {},
      "outputs": [
        {
          "data": {
            "text/plain": [
              "45"
            ]
          },
          "execution_count": 59,
          "metadata": {},
          "output_type": "execute_result"
        }
      ],
      "source": [
        "# Tryng improve threshold\n",
        "np.sum(np.squeeze(results) > 0.9)"
      ]
    },
    {
      "cell_type": "markdown",
      "metadata": {},
      "source": [
        "## NEXT STEPS: Build the Facial Recognizer APP with Kivy"
      ]
    }
  ],
  "metadata": {
    "colab": {
      "provenance": []
    },
    "kernelspec": {
      "display_name": "Python 3.8.10 64-bit",
      "language": "python",
      "name": "python3"
    },
    "language_info": {
      "codemirror_mode": {
        "name": "ipython",
        "version": 3
      },
      "file_extension": ".py",
      "mimetype": "text/x-python",
      "name": "python",
      "nbconvert_exporter": "python",
      "pygments_lexer": "ipython3",
      "version": "3.8.10"
    },
    "vscode": {
      "interpreter": {
        "hash": "916dbcbb3f70747c44a77c7bcd40155683ae19c65e1c03b4aa3499c5328201f1"
      }
    }
  },
  "nbformat": 4,
  "nbformat_minor": 0
}
